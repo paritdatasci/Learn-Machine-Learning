{
 "cells": [
  {
   "cell_type": "markdown",
   "metadata": {},
   "source": [
    "# Chapter 13 Machine learning\n",
    "ประเภทของ Machine learning มีอยู่หลักๆ 3 ประเภท\n",
    "- Supervised ML\n",
    "    - Classification\n",
    "    - Regreesion\n",
    "- Unsupervised ML\n",
    "- Reinforcement Learning\n",
    "### โดยLibrary ที่นิยมใช้คือ Scikit-Learn sklearn ซึ่งจะมีโมดูลให้ใช้หลากหลายมากเช่น \n",
    "- Regression\n",
    "- Support vector Machine\n",
    "- Random Forest\n",
    "- k-means\n",
    "- DBscan"
   ]
  },
  {
   "cell_type": "markdown",
   "metadata": {},
   "source": [
    "# Workshop2 เขัยนโปรแกรมด้วย Machine learning"
   ]
  },
  {
   "cell_type": "code",
   "execution_count": 1,
   "metadata": {},
   "outputs": [],
   "source": [
    "import pandas as pd\n",
    "import numpy as np\n",
    "import matplotlib.pyplot as plt\n",
    "import seaborn as sns\n",
    "%matplotlib inline\n",
    "x_data = [1.0,1.8,3.0,4.1,5.2,6.0]\n",
    "y_data = [1,1.3, 2.2, 2.5, 2.8, 3.6]\n",
    "x = np.array(x_data)\n",
    "y = np.array(y_data)"
   ]
  },
  {
   "cell_type": "code",
   "execution_count": 2,
   "metadata": {},
   "outputs": [
    {
     "data": {
      "text/html": [
       "<div>\n",
       "<style scoped>\n",
       "    .dataframe tbody tr th:only-of-type {\n",
       "        vertical-align: middle;\n",
       "    }\n",
       "\n",
       "    .dataframe tbody tr th {\n",
       "        vertical-align: top;\n",
       "    }\n",
       "\n",
       "    .dataframe thead th {\n",
       "        text-align: right;\n",
       "    }\n",
       "</style>\n",
       "<table border=\"1\" class=\"dataframe\">\n",
       "  <thead>\n",
       "    <tr style=\"text-align: right;\">\n",
       "      <th></th>\n",
       "      <th>x</th>\n",
       "      <th>y</th>\n",
       "    </tr>\n",
       "  </thead>\n",
       "  <tbody>\n",
       "    <tr>\n",
       "      <th>0</th>\n",
       "      <td>1.0</td>\n",
       "      <td>1.0</td>\n",
       "    </tr>\n",
       "    <tr>\n",
       "      <th>1</th>\n",
       "      <td>1.8</td>\n",
       "      <td>1.3</td>\n",
       "    </tr>\n",
       "    <tr>\n",
       "      <th>2</th>\n",
       "      <td>3.0</td>\n",
       "      <td>2.2</td>\n",
       "    </tr>\n",
       "    <tr>\n",
       "      <th>3</th>\n",
       "      <td>4.1</td>\n",
       "      <td>2.5</td>\n",
       "    </tr>\n",
       "    <tr>\n",
       "      <th>4</th>\n",
       "      <td>5.2</td>\n",
       "      <td>2.8</td>\n",
       "    </tr>\n",
       "    <tr>\n",
       "      <th>5</th>\n",
       "      <td>6.0</td>\n",
       "      <td>3.6</td>\n",
       "    </tr>\n",
       "  </tbody>\n",
       "</table>\n",
       "</div>"
      ],
      "text/plain": [
       "     x    y\n",
       "0  1.0  1.0\n",
       "1  1.8  1.3\n",
       "2  3.0  2.2\n",
       "3  4.1  2.5\n",
       "4  5.2  2.8\n",
       "5  6.0  3.6"
      ]
     },
     "execution_count": 2,
     "metadata": {},
     "output_type": "execute_result"
    }
   ],
   "source": [
    "df = pd.DataFrame({'x':x,'y':y})\n",
    "df"
   ]
  },
  {
   "cell_type": "code",
   "execution_count": 3,
   "metadata": {},
   "outputs": [
    {
     "data": {
      "image/png": "[encoded data removed]",
      "text/plain": [
       "<Figure size 432x288 with 1 Axes>"
      ]
     },
     "metadata": {},
     "output_type": "display_data"
    }
   ],
   "source": [
    "sns.set_style('darkgrid')\n",
    "plt.scatter(x,y)\n",
    "plt.grid(True)\n",
    "plt.show()"
   ]
  },
  {
   "cell_type": "markdown",
   "metadata": {},
   "source": [
    "พบว่าเมื่อ x เพิ่มขึ้น y มีแนวโน้มเพิ่มขึ้น และรูปทรงคล้ายเส้นตรงอาจจะเป็น Linear regression"
   ]
  },
  {
   "cell_type": "code",
   "execution_count": 4,
   "metadata": {},
   "outputs": [
    {
     "data": {
      "text/html": [
       "<div>\n",
       "<style scoped>\n",
       "    .dataframe tbody tr th:only-of-type {\n",
       "        vertical-align: middle;\n",
       "    }\n",
       "\n",
       "    .dataframe tbody tr th {\n",
       "        vertical-align: top;\n",
       "    }\n",
       "\n",
       "    .dataframe thead th {\n",
       "        text-align: right;\n",
       "    }\n",
       "</style>\n",
       "<table border=\"1\" class=\"dataframe\">\n",
       "  <thead>\n",
       "    <tr style=\"text-align: right;\">\n",
       "      <th></th>\n",
       "      <th>x</th>\n",
       "      <th>y</th>\n",
       "    </tr>\n",
       "  </thead>\n",
       "  <tbody>\n",
       "    <tr>\n",
       "      <th>x</th>\n",
       "      <td>1.00000</td>\n",
       "      <td>0.98416</td>\n",
       "    </tr>\n",
       "    <tr>\n",
       "      <th>y</th>\n",
       "      <td>0.98416</td>\n",
       "      <td>1.00000</td>\n",
       "    </tr>\n",
       "  </tbody>\n",
       "</table>\n",
       "</div>"
      ],
      "text/plain": [
       "         x        y\n",
       "x  1.00000  0.98416\n",
       "y  0.98416  1.00000"
      ]
     },
     "execution_count": 4,
     "metadata": {},
     "output_type": "execute_result"
    }
   ],
   "source": [
    "df.corr() # high correlation + 0.98"
   ]
  },
  {
   "cell_type": "code",
   "execution_count": 7,
   "metadata": {},
   "outputs": [
    {
     "name": "stdout",
     "output_type": "stream",
     "text": [
      "[[1. ]\n",
      " [1.8]\n",
      " [3. ]\n",
      " [4.1]\n",
      " [5.2]\n",
      " [6. ]]\n",
      "====\n",
      "[[1. ]\n",
      " [1.3]\n",
      " [2.2]\n",
      " [2.5]\n",
      " [2.8]\n",
      " [3.6]]\n"
     ]
    },
    {
     "data": {
      "text/plain": [
       "LinearRegression(copy_X=True, fit_intercept=True, n_jobs=None, normalize=False)"
      ]
     },
     "execution_count": 7,
     "metadata": {},
     "output_type": "execute_result"
    }
   ],
   "source": [
    "from sklearn.linear_model import LinearRegression\n",
    "x = x.reshape(-1,1)\n",
    "x # Data set ที่จะป้อนให้ Model ต้องเป็น matrix 1 column\n",
    "y = y.reshape(-1,1)\n",
    "print(x)\n",
    "print('====')\n",
    "print(y)\n",
    "\n",
    "model = LinearRegression() # Instantiate \n",
    "model.fit(x,y)  # ป้อนข้อมูล x,y ให้คอมพิวเตอร์เรียนรู็ สร้าง Model โดยที่เรา ป้อนข้อมูลไป train"
   ]
  },
  {
   "cell_type": "markdown",
   "metadata": {},
   "source": [
    "# เราได้ Linear regression Model แล้วพร้อมจะนำไป predict ได้ เช่น สมมติว่า x คืองบลงทุน y คือกำไรที่จะได้ หากเราอยากทราบว่า ถ้า x = 2.5 แล้ว y จะเท่ากับเท่าใด model.predict([[2.5]])"
   ]
  },
  {
   "cell_type": "code",
   "execution_count": 9,
   "metadata": {},
   "outputs": [
    {
     "data": {
      "text/plain": [
       "array([[1.73670696]])"
      ]
     },
     "execution_count": 9,
     "metadata": {},
     "output_type": "execute_result"
    }
   ],
   "source": [
    "model.predict([[2.5]])"
   ]
  },
  {
   "cell_type": "code",
   "execution_count": 12,
   "metadata": {},
   "outputs": [
    {
     "data": {
      "text/plain": [
       "(array([0.51549457]), array([[0.48848496]]))"
      ]
     },
     "execution_count": 12,
     "metadata": {},
     "output_type": "execute_result"
    }
   ],
   "source": [
    "model.intercept_, model.coef_"
   ]
  },
  {
   "cell_type": "markdown",
   "metadata": {},
   "source": [
    "กรณีที่ต้องการคำนวณหรือทำนายหลายค่า เช่น ผู้บริหารต้องการรู้ว่าถ้าลงทุนโฆษณามูลค่าต่างๆ ไก้แก่ 2,2.5,3และ 5 แล้วจะได้กำไรเท่าใดบ้าง"
   ]
  },
  {
   "cell_type": "code",
   "execution_count": 13,
   "metadata": {},
   "outputs": [],
   "source": [
    "x_input = [2,2.5,3,5]\n",
    "x_input = np.array(x_input).reshape(-1,1)"
   ]
  },
  {
   "cell_type": "code",
   "execution_count": 16,
   "metadata": {},
   "outputs": [
    {
     "data": {
      "text/plain": [
       "array([[1.49246448],\n",
       "       [1.73670696],\n",
       "       [1.98094944],\n",
       "       [2.95791935]])"
      ]
     },
     "execution_count": 16,
     "metadata": {},
     "output_type": "execute_result"
    }
   ],
   "source": [
    "y_predict = model.predict(x_input)\n",
    "y_predict"
   ]
  },
  {
   "cell_type": "code",
   "execution_count": 21,
   "metadata": {},
   "outputs": [
    {
     "data": {
      "text/plain": [
       "1.492464484249537"
      ]
     },
     "execution_count": 21,
     "metadata": {},
     "output_type": "execute_result"
    }
   ],
   "source": [
    "y_predict[0][0] # การเข้าถึงค่า predict"
   ]
  },
  {
   "cell_type": "code",
   "execution_count": 20,
   "metadata": {},
   "outputs": [
    {
     "data": {
      "text/plain": [
       "1.73670696196947"
      ]
     },
     "execution_count": 20,
     "metadata": {},
     "output_type": "execute_result"
    }
   ],
   "source": [
    "y_predict[1][0]"
   ]
  },
  {
   "cell_type": "code",
   "execution_count": 25,
   "metadata": {},
   "outputs": [
    {
     "name": "stdout",
     "output_type": "stream",
     "text": [
      "x =2.0 y=1.49\n",
      "x =2.5 y=1.74\n",
      "x =3.0 y=1.98\n",
      "x =5.0 y=2.96\n"
     ]
    }
   ],
   "source": [
    "y2_predict = y_predict.reshape(-1,1)\n",
    "x_input_list = x_input\n",
    "\n",
    "for i,item in enumerate(x_input_list):\n",
    "    print('x ={} y={:.2f}'.format(item[0], y2_predict[i][0]))"
   ]
  },
  {
   "cell_type": "markdown",
   "metadata": {},
   "source": [
    "ดูเส้นจากสมการ Model \n",
    "จากที่ผ่านมา เราใส่ Data และ Output (xy)  เข้าไปแล้วให้คอมพิวเตอร์เรียนรู็ สร้าง Model เส้นตรงให้ โดยเครื่องจะเลือกเส้นที่ลากผ่านจุดข้อมูลที่มีค่าเฉลี่ยที่ดีที่สุดให้ "
   ]
  },
  {
   "cell_type": "code",
   "execution_count": 28,
   "metadata": {},
   "outputs": [
    {
     "data": {
      "image/png": "[encoded data removed]",
      "text/plain": [
       "<Figure size 432x288 with 1 Axes>"
      ]
     },
     "metadata": {},
     "output_type": "display_data"
    }
   ],
   "source": [
    "prd = model.predict(x)\n",
    "plt.grid(True)\n",
    "plt.scatter(x,y,color='b')\n",
    "plt.plot(x,prd,linewidth='1')\n",
    "\n",
    "plt.scatter(x,prd,color='r',marker='s')\n",
    "plt.show()"
   ]
  },
  {
   "cell_type": "markdown",
   "metadata": {},
   "source": [
    "# Data จริง คือสีน้ำเงิน  \n",
    "# สีแดง คือ predict"
   ]
  },
  {
   "cell_type": "code",
   "execution_count": 36,
   "metadata": {},
   "outputs": [
    {
     "data": {
      "text/plain": [
       "<matplotlib.collections.PathCollection at 0x21b02982cc8>"
      ]
     },
     "execution_count": 36,
     "metadata": {},
     "output_type": "execute_result"
    },
    {
     "data": {
      "image/png": "[encoded data removed]",
      "text/plain": [
       "<Figure size 432x288 with 1 Axes>"
      ]
     },
     "metadata": {},
     "output_type": "display_data"
    }
   ],
   "source": [
    "prd = model.predict(x)\n",
    "plt.scatter(x,y,c='b')\n",
    "plt.grid(True)\n",
    "\n",
    "plt.plot(x,prd)\n",
    "\n",
    "plt.scatter(x,prd,c='r')"
   ]
  },
  {
   "cell_type": "code",
   "execution_count": 37,
   "metadata": {},
   "outputs": [
    {
     "data": {
      "text/plain": [
       "array([[0.48848496]])"
      ]
     },
     "execution_count": 37,
     "metadata": {},
     "output_type": "execute_result"
    }
   ],
   "source": [
    "model.coef_"
   ]
  },
  {
   "cell_type": "code",
   "execution_count": 38,
   "metadata": {},
   "outputs": [
    {
     "data": {
      "text/plain": [
       "array([0.51549457])"
      ]
     },
     "execution_count": 38,
     "metadata": {},
     "output_type": "execute_result"
    }
   ],
   "source": [
    "model.intercept_"
   ]
  },
  {
   "cell_type": "markdown",
   "metadata": {},
   "source": [
    "#  Workshop 3 : การบันทึกและเรียกใช้งาน Model"
   ]
  },
  {
   "cell_type": "code",
   "execution_count": 41,
   "metadata": {},
   "outputs": [
    {
     "data": {
      "text/plain": [
       "['my_model.pkl']"
      ]
     },
     "execution_count": 41,
     "metadata": {},
     "output_type": "execute_result"
    }
   ],
   "source": [
    "from sklearn.externals import joblib\n",
    "joblib.dump(model,'my_model.pkl')"
   ]
  },
  {
   "cell_type": "markdown",
   "metadata": {},
   "source": [
    "# Workshop 4 : การนำโมเดลเข้ามาใช้งาน"
   ]
  },
  {
   "cell_type": "code",
   "execution_count": 42,
   "metadata": {},
   "outputs": [
    {
     "data": {
      "text/plain": [
       "LinearRegression(copy_X=True, fit_intercept=True, n_jobs=None, normalize=False)"
      ]
     },
     "execution_count": 42,
     "metadata": {},
     "output_type": "execute_result"
    }
   ],
   "source": [
    "from sklearn.externals import joblib\n",
    "model = joblib.load('my_model.pkl')\n",
    "model"
   ]
  },
  {
   "cell_type": "code",
   "execution_count": 43,
   "metadata": {},
   "outputs": [
    {
     "data": {
      "text/plain": [
       "array([[1.49246448],\n",
       "       [1.73670696],\n",
       "       [1.98094944],\n",
       "       [2.95791935],\n",
       "       [3.20216183]])"
      ]
     },
     "execution_count": 43,
     "metadata": {},
     "output_type": "execute_result"
    }
   ],
   "source": [
    "x_input = [2.0, 2.5, 3, 5.0, 5.5]\n",
    "x_input = np.array(x_input).reshape(-1,1)\n",
    "model.predict(x_input)"
   ]
  },
  {
   "cell_type": "markdown",
   "metadata": {},
   "source": [
    "# สรุปขั้นตอนการสร้าง Machine learning "
   ]
  },
  {
   "cell_type": "markdown",
   "metadata": {},
   "source": [
    "1. Train data\n",
    "2. Train model\n",
    "3. evaluate model \n",
    "4. use with new data \n",
    "5. get output"
   ]
  },
  {
   "cell_type": "markdown",
   "metadata": {},
   "source": [
    "# Code for building Machine learning"
   ]
  },
  {
   "cell_type": "code",
   "execution_count": 54,
   "metadata": {},
   "outputs": [
    {
     "name": "stdout",
     "output_type": "stream",
     "text": [
      "         x        y\n",
      "x  1.00000  0.98416\n",
      "y  0.98416  1.00000\n"
     ]
    },
    {
     "data": {
      "text/plain": [
       "['my_model.pkl']"
      ]
     },
     "execution_count": 54,
     "metadata": {},
     "output_type": "execute_result"
    },
    {
     "data": {
      "image/png": "[encoded data removed]",
      "text/plain": [
       "<Figure size 432x288 with 1 Axes>"
      ]
     },
     "metadata": {},
     "output_type": "display_data"
    }
   ],
   "source": [
    "import numpy as np\n",
    "import matplotlib.pyplot as plt\n",
    "import seaborn as sns\n",
    "import pandas as pd\n",
    "from sklearn.linear_model import LinearRegression\n",
    "from sklearn.externals import joblib\n",
    "x = [1.0,1.8,3.0,4.1,5.2,6.0]\n",
    "y = [1,1.3,2.2,2.5,2.8,3.6]\n",
    "df = pd.DataFrame({'x':x,'y':y})\n",
    "print(df.corr()) # Correlation is very high\n",
    "model = LinearRegression()\n",
    "\n",
    "x = np.array(x).reshape(-1,1)\n",
    "y = np.array(y).reshape(-1,1)\n",
    "model.fit(x,y)\n",
    "\n",
    "prd = model.predict(x)\n",
    "plt.rcParams.update({'font.size':16})\n",
    "plt.scatter(x,y,label='Real data')\n",
    "plt.plot(x,prd,linestyle='--')\n",
    "plt.scatter(x,prd,c='r',label='Predict data')\n",
    "plt.legend()\n",
    "plt.title('My First Machine Learning Model')\n",
    "plt.xlabel('X as an input')\n",
    "plt.ylabel('Y as an output')\n",
    "plt.grid(True)\n",
    "joblib.dump(model,'my_model.pkl')"
   ]
  },
  {
   "cell_type": "markdown",
   "metadata": {},
   "source": []
  },
  {
   "cell_type": "code",
   "execution_count": null,
   "metadata": {},
   "outputs": [],
   "source": []
  }
 ],
 "metadata": {
  "kernelspec": {
   "display_name": "Python 3",
   "language": "python",
   "name": "python3"
  },
  "language_info": {
   "codemirror_mode": {
    "name": "ipython",
    "version": 3
   },
   "file_extension": ".py",
   "mimetype": "text/x-python",
   "name": "python",
   "nbconvert_exporter": "python",
   "pygments_lexer": "ipython3",
   "version": "3.7.6"
  }
 },
 "nbformat": 4,
 "nbformat_minor": 4
}
