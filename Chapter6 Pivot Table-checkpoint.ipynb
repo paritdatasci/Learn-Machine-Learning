{
 "cells": [
  {
   "cell_type": "code",
   "execution_count": 154,
   "metadata": {},
   "outputs": [
    {
     "name": "stdout",
     "output_type": "stream",
     "text": [
      "20\n",
      "20\n",
      "20\n",
      "20\n"
     ]
    }
   ],
   "source": [
    "employee = ['Nan','Kobkiat','Tina','Maria','Bill','Nan','Kobkiat','Tina','Maria','Bill','Nan','Kobkiat','Tina','Maria','Bill','Nan','Kobkiat','Tina','Maria','Bill']\n",
    "sales = [1000,300,400,500,800,1000,500,700,50,60,1000,900,750,200,300,1000,900,250,750,50]  \n",
    "Quarter = [1,1,1,1,1,2,2,2,2,2,3,3,3,3,3,4,4,4,4,4]\n",
    "Country = ['USA','Japan','Thailand','UK','USA','USA','USA','Thailand','Japan','Thailand','Thailand','UK','Thailand','Japan','USA','USA','UK','Thailand','Japan','Japan']\n",
    "print(len(employee))\n",
    "print(len(sales))\n",
    "print(len(Quarter))\n",
    "print(len(Country))"
   ]
  },
  {
   "cell_type": "code",
   "execution_count": 155,
   "metadata": {},
   "outputs": [
    {
     "data": {
      "text/html": [
       "<div>\n",
       "<style scoped>\n",
       "    .dataframe tbody tr th:only-of-type {\n",
       "        vertical-align: middle;\n",
       "    }\n",
       "\n",
       "    .dataframe tbody tr th {\n",
       "        vertical-align: top;\n",
       "    }\n",
       "\n",
       "    .dataframe thead th {\n",
       "        text-align: right;\n",
       "    }\n",
       "</style>\n",
       "<table border=\"1\" class=\"dataframe\">\n",
       "  <thead>\n",
       "    <tr style=\"text-align: right;\">\n",
       "      <th></th>\n",
       "      <th>Employee</th>\n",
       "      <th>Sales</th>\n",
       "      <th>Quarter</th>\n",
       "      <th>Country</th>\n",
       "    </tr>\n",
       "  </thead>\n",
       "  <tbody>\n",
       "    <tr>\n",
       "      <th>0</th>\n",
       "      <td>Nan</td>\n",
       "      <td>1000</td>\n",
       "      <td>1</td>\n",
       "      <td>USA</td>\n",
       "    </tr>\n",
       "    <tr>\n",
       "      <th>1</th>\n",
       "      <td>Kobkiat</td>\n",
       "      <td>300</td>\n",
       "      <td>1</td>\n",
       "      <td>Japan</td>\n",
       "    </tr>\n",
       "    <tr>\n",
       "      <th>2</th>\n",
       "      <td>Tina</td>\n",
       "      <td>400</td>\n",
       "      <td>1</td>\n",
       "      <td>Thailand</td>\n",
       "    </tr>\n",
       "    <tr>\n",
       "      <th>3</th>\n",
       "      <td>Maria</td>\n",
       "      <td>500</td>\n",
       "      <td>1</td>\n",
       "      <td>UK</td>\n",
       "    </tr>\n",
       "    <tr>\n",
       "      <th>4</th>\n",
       "      <td>Bill</td>\n",
       "      <td>800</td>\n",
       "      <td>1</td>\n",
       "      <td>USA</td>\n",
       "    </tr>\n",
       "    <tr>\n",
       "      <th>5</th>\n",
       "      <td>Nan</td>\n",
       "      <td>1000</td>\n",
       "      <td>2</td>\n",
       "      <td>USA</td>\n",
       "    </tr>\n",
       "    <tr>\n",
       "      <th>6</th>\n",
       "      <td>Kobkiat</td>\n",
       "      <td>500</td>\n",
       "      <td>2</td>\n",
       "      <td>USA</td>\n",
       "    </tr>\n",
       "    <tr>\n",
       "      <th>7</th>\n",
       "      <td>Tina</td>\n",
       "      <td>700</td>\n",
       "      <td>2</td>\n",
       "      <td>Thailand</td>\n",
       "    </tr>\n",
       "    <tr>\n",
       "      <th>8</th>\n",
       "      <td>Maria</td>\n",
       "      <td>50</td>\n",
       "      <td>2</td>\n",
       "      <td>Japan</td>\n",
       "    </tr>\n",
       "    <tr>\n",
       "      <th>9</th>\n",
       "      <td>Bill</td>\n",
       "      <td>60</td>\n",
       "      <td>2</td>\n",
       "      <td>Thailand</td>\n",
       "    </tr>\n",
       "    <tr>\n",
       "      <th>10</th>\n",
       "      <td>Nan</td>\n",
       "      <td>1000</td>\n",
       "      <td>3</td>\n",
       "      <td>Thailand</td>\n",
       "    </tr>\n",
       "    <tr>\n",
       "      <th>11</th>\n",
       "      <td>Kobkiat</td>\n",
       "      <td>900</td>\n",
       "      <td>3</td>\n",
       "      <td>UK</td>\n",
       "    </tr>\n",
       "    <tr>\n",
       "      <th>12</th>\n",
       "      <td>Tina</td>\n",
       "      <td>750</td>\n",
       "      <td>3</td>\n",
       "      <td>Thailand</td>\n",
       "    </tr>\n",
       "    <tr>\n",
       "      <th>13</th>\n",
       "      <td>Maria</td>\n",
       "      <td>200</td>\n",
       "      <td>3</td>\n",
       "      <td>Japan</td>\n",
       "    </tr>\n",
       "    <tr>\n",
       "      <th>14</th>\n",
       "      <td>Bill</td>\n",
       "      <td>300</td>\n",
       "      <td>3</td>\n",
       "      <td>USA</td>\n",
       "    </tr>\n",
       "    <tr>\n",
       "      <th>15</th>\n",
       "      <td>Nan</td>\n",
       "      <td>1000</td>\n",
       "      <td>4</td>\n",
       "      <td>USA</td>\n",
       "    </tr>\n",
       "    <tr>\n",
       "      <th>16</th>\n",
       "      <td>Kobkiat</td>\n",
       "      <td>900</td>\n",
       "      <td>4</td>\n",
       "      <td>UK</td>\n",
       "    </tr>\n",
       "    <tr>\n",
       "      <th>17</th>\n",
       "      <td>Tina</td>\n",
       "      <td>250</td>\n",
       "      <td>4</td>\n",
       "      <td>Thailand</td>\n",
       "    </tr>\n",
       "    <tr>\n",
       "      <th>18</th>\n",
       "      <td>Maria</td>\n",
       "      <td>750</td>\n",
       "      <td>4</td>\n",
       "      <td>Japan</td>\n",
       "    </tr>\n",
       "    <tr>\n",
       "      <th>19</th>\n",
       "      <td>Bill</td>\n",
       "      <td>50</td>\n",
       "      <td>4</td>\n",
       "      <td>Japan</td>\n",
       "    </tr>\n",
       "  </tbody>\n",
       "</table>\n",
       "</div>"
      ],
      "text/plain": [
       "   Employee  Sales  Quarter   Country\n",
       "0       Nan   1000        1       USA\n",
       "1   Kobkiat    300        1     Japan\n",
       "2      Tina    400        1  Thailand\n",
       "3     Maria    500        1        UK\n",
       "4      Bill    800        1       USA\n",
       "5       Nan   1000        2       USA\n",
       "6   Kobkiat    500        2       USA\n",
       "7      Tina    700        2  Thailand\n",
       "8     Maria     50        2     Japan\n",
       "9      Bill     60        2  Thailand\n",
       "10      Nan   1000        3  Thailand\n",
       "11  Kobkiat    900        3        UK\n",
       "12     Tina    750        3  Thailand\n",
       "13    Maria    200        3     Japan\n",
       "14     Bill    300        3       USA\n",
       "15      Nan   1000        4       USA\n",
       "16  Kobkiat    900        4        UK\n",
       "17     Tina    250        4  Thailand\n",
       "18    Maria    750        4     Japan\n",
       "19     Bill     50        4     Japan"
      ]
     },
     "execution_count": 155,
     "metadata": {},
     "output_type": "execute_result"
    }
   ],
   "source": [
    "data = {'Employee':employee, 'Sales':sales, 'Quarter':Quarter, 'Country':Country}\n",
    "df = pd.DataFrame(data)\n",
    "df.to_csv('pivot_table.csv',index=False)\n",
    "df"
   ]
  },
  {
   "cell_type": "code",
   "execution_count": 156,
   "metadata": {},
   "outputs": [
    {
     "data": {
      "text/html": [
       "<div>\n",
       "<style scoped>\n",
       "    .dataframe tbody tr th:only-of-type {\n",
       "        vertical-align: middle;\n",
       "    }\n",
       "\n",
       "    .dataframe tbody tr th {\n",
       "        vertical-align: top;\n",
       "    }\n",
       "\n",
       "    .dataframe thead th {\n",
       "        text-align: right;\n",
       "    }\n",
       "</style>\n",
       "<table border=\"1\" class=\"dataframe\">\n",
       "  <thead>\n",
       "    <tr style=\"text-align: right;\">\n",
       "      <th></th>\n",
       "      <th>Sales</th>\n",
       "      <th>Quarter</th>\n",
       "    </tr>\n",
       "  </thead>\n",
       "  <tbody>\n",
       "    <tr>\n",
       "      <th>count</th>\n",
       "      <td>20.000000</td>\n",
       "      <td>20.000000</td>\n",
       "    </tr>\n",
       "    <tr>\n",
       "      <th>mean</th>\n",
       "      <td>570.500000</td>\n",
       "      <td>2.500000</td>\n",
       "    </tr>\n",
       "    <tr>\n",
       "      <th>std</th>\n",
       "      <td>349.186649</td>\n",
       "      <td>1.147079</td>\n",
       "    </tr>\n",
       "    <tr>\n",
       "      <th>min</th>\n",
       "      <td>50.000000</td>\n",
       "      <td>1.000000</td>\n",
       "    </tr>\n",
       "    <tr>\n",
       "      <th>25%</th>\n",
       "      <td>287.500000</td>\n",
       "      <td>1.750000</td>\n",
       "    </tr>\n",
       "    <tr>\n",
       "      <th>50%</th>\n",
       "      <td>600.000000</td>\n",
       "      <td>2.500000</td>\n",
       "    </tr>\n",
       "    <tr>\n",
       "      <th>75%</th>\n",
       "      <td>900.000000</td>\n",
       "      <td>3.250000</td>\n",
       "    </tr>\n",
       "    <tr>\n",
       "      <th>max</th>\n",
       "      <td>1000.000000</td>\n",
       "      <td>4.000000</td>\n",
       "    </tr>\n",
       "  </tbody>\n",
       "</table>\n",
       "</div>"
      ],
      "text/plain": [
       "             Sales    Quarter\n",
       "count    20.000000  20.000000\n",
       "mean    570.500000   2.500000\n",
       "std     349.186649   1.147079\n",
       "min      50.000000   1.000000\n",
       "25%     287.500000   1.750000\n",
       "50%     600.000000   2.500000\n",
       "75%     900.000000   3.250000\n",
       "max    1000.000000   4.000000"
      ]
     },
     "execution_count": 156,
     "metadata": {},
     "output_type": "execute_result"
    }
   ],
   "source": [
    "df.describe() # Quarter should not be used to calculate"
   ]
  },
  {
   "cell_type": "code",
   "execution_count": 157,
   "metadata": {},
   "outputs": [
    {
     "name": "stdout",
     "output_type": "stream",
     "text": [
      "<class 'pandas.core.frame.DataFrame'>\n",
      "RangeIndex: 20 entries, 0 to 19\n",
      "Data columns (total 4 columns):\n",
      " #   Column    Non-Null Count  Dtype \n",
      "---  ------    --------------  ----- \n",
      " 0   Employee  20 non-null     object\n",
      " 1   Sales     20 non-null     int64 \n",
      " 2   Quarter   20 non-null     int64 \n",
      " 3   Country   20 non-null     object\n",
      "dtypes: int64(2), object(2)\n",
      "memory usage: 768.0+ bytes\n"
     ]
    }
   ],
   "source": [
    "df.info()"
   ]
  },
  {
   "cell_type": "code",
   "execution_count": 158,
   "metadata": {},
   "outputs": [
    {
     "name": "stdout",
     "output_type": "stream",
     "text": [
      "<class 'pandas.core.frame.DataFrame'>\n",
      "RangeIndex: 20 entries, 0 to 19\n",
      "Data columns (total 4 columns):\n",
      " #   Column    Non-Null Count  Dtype   \n",
      "---  ------    --------------  -----   \n",
      " 0   Employee  20 non-null     object  \n",
      " 1   Sales     20 non-null     int64   \n",
      " 2   Quarter   20 non-null     category\n",
      " 3   Country   20 non-null     object  \n",
      "dtypes: category(1), int64(1), object(2)\n",
      "memory usage: 820.0+ bytes\n"
     ]
    }
   ],
   "source": [
    "df.Quarter = df.Quarter.astype('category')\n",
    "df.info()"
   ]
  },
  {
   "cell_type": "code",
   "execution_count": 159,
   "metadata": {},
   "outputs": [
    {
     "data": {
      "text/html": [
       "<div>\n",
       "<style scoped>\n",
       "    .dataframe tbody tr th:only-of-type {\n",
       "        vertical-align: middle;\n",
       "    }\n",
       "\n",
       "    .dataframe tbody tr th {\n",
       "        vertical-align: top;\n",
       "    }\n",
       "\n",
       "    .dataframe thead th {\n",
       "        text-align: right;\n",
       "    }\n",
       "</style>\n",
       "<table border=\"1\" class=\"dataframe\">\n",
       "  <thead>\n",
       "    <tr style=\"text-align: right;\">\n",
       "      <th></th>\n",
       "      <th>Employee</th>\n",
       "      <th>Sales</th>\n",
       "      <th>Quarter</th>\n",
       "      <th>Country</th>\n",
       "    </tr>\n",
       "  </thead>\n",
       "  <tbody>\n",
       "    <tr>\n",
       "      <th>0</th>\n",
       "      <td>Nan</td>\n",
       "      <td>1000</td>\n",
       "      <td>1</td>\n",
       "      <td>USA</td>\n",
       "    </tr>\n",
       "    <tr>\n",
       "      <th>1</th>\n",
       "      <td>Kobkiat</td>\n",
       "      <td>300</td>\n",
       "      <td>1</td>\n",
       "      <td>Japan</td>\n",
       "    </tr>\n",
       "    <tr>\n",
       "      <th>2</th>\n",
       "      <td>Tina</td>\n",
       "      <td>400</td>\n",
       "      <td>1</td>\n",
       "      <td>Thailand</td>\n",
       "    </tr>\n",
       "    <tr>\n",
       "      <th>3</th>\n",
       "      <td>Maria</td>\n",
       "      <td>500</td>\n",
       "      <td>1</td>\n",
       "      <td>UK</td>\n",
       "    </tr>\n",
       "    <tr>\n",
       "      <th>4</th>\n",
       "      <td>Bill</td>\n",
       "      <td>800</td>\n",
       "      <td>1</td>\n",
       "      <td>USA</td>\n",
       "    </tr>\n",
       "  </tbody>\n",
       "</table>\n",
       "</div>"
      ],
      "text/plain": [
       "  Employee  Sales Quarter   Country\n",
       "0      Nan   1000       1       USA\n",
       "1  Kobkiat    300       1     Japan\n",
       "2     Tina    400       1  Thailand\n",
       "3    Maria    500       1        UK\n",
       "4     Bill    800       1       USA"
      ]
     },
     "execution_count": 159,
     "metadata": {},
     "output_type": "execute_result"
    }
   ],
   "source": [
    "df.head()"
   ]
  },
  {
   "cell_type": "markdown",
   "metadata": {},
   "source": [
    "# Workshop 6 : pivot table หาค่าเฉลี่ยของยอดขายแต่ละ Quarter"
   ]
  },
  {
   "cell_type": "code",
   "execution_count": 160,
   "metadata": {},
   "outputs": [
    {
     "data": {
      "text/html": [
       "<div>\n",
       "<style scoped>\n",
       "    .dataframe tbody tr th:only-of-type {\n",
       "        vertical-align: middle;\n",
       "    }\n",
       "\n",
       "    .dataframe tbody tr th {\n",
       "        vertical-align: top;\n",
       "    }\n",
       "\n",
       "    .dataframe thead th {\n",
       "        text-align: right;\n",
       "    }\n",
       "</style>\n",
       "<table border=\"1\" class=\"dataframe\">\n",
       "  <thead>\n",
       "    <tr style=\"text-align: right;\">\n",
       "      <th></th>\n",
       "      <th>Sales</th>\n",
       "    </tr>\n",
       "    <tr>\n",
       "      <th>Quarter</th>\n",
       "      <th></th>\n",
       "    </tr>\n",
       "  </thead>\n",
       "  <tbody>\n",
       "    <tr>\n",
       "      <th>1</th>\n",
       "      <td>600.0</td>\n",
       "    </tr>\n",
       "    <tr>\n",
       "      <th>2</th>\n",
       "      <td>462.0</td>\n",
       "    </tr>\n",
       "    <tr>\n",
       "      <th>3</th>\n",
       "      <td>630.0</td>\n",
       "    </tr>\n",
       "    <tr>\n",
       "      <th>4</th>\n",
       "      <td>590.0</td>\n",
       "    </tr>\n",
       "    <tr>\n",
       "      <th>All</th>\n",
       "      <td>570.5</td>\n",
       "    </tr>\n",
       "  </tbody>\n",
       "</table>\n",
       "</div>"
      ],
      "text/plain": [
       "         Sales\n",
       "Quarter       \n",
       "1        600.0\n",
       "2        462.0\n",
       "3        630.0\n",
       "4        590.0\n",
       "All      570.5"
      ]
     },
     "execution_count": 160,
     "metadata": {},
     "output_type": "execute_result"
    }
   ],
   "source": [
    "df.pivot_table(index='Quarter',margins = True) # หากไม่ระบุ aggfunc จะหมายถึงการหาค่า mean"
   ]
  },
  {
   "cell_type": "code",
   "execution_count": 161,
   "metadata": {},
   "outputs": [
    {
     "data": {
      "text/html": [
       "<div>\n",
       "<style scoped>\n",
       "    .dataframe tbody tr th:only-of-type {\n",
       "        vertical-align: middle;\n",
       "    }\n",
       "\n",
       "    .dataframe tbody tr th {\n",
       "        vertical-align: top;\n",
       "    }\n",
       "\n",
       "    .dataframe thead th {\n",
       "        text-align: right;\n",
       "    }\n",
       "</style>\n",
       "<table border=\"1\" class=\"dataframe\">\n",
       "  <thead>\n",
       "    <tr style=\"text-align: right;\">\n",
       "      <th></th>\n",
       "      <th>Sales</th>\n",
       "    </tr>\n",
       "    <tr>\n",
       "      <th>Quarter</th>\n",
       "      <th></th>\n",
       "    </tr>\n",
       "  </thead>\n",
       "  <tbody>\n",
       "    <tr>\n",
       "      <th>1</th>\n",
       "      <td>600</td>\n",
       "    </tr>\n",
       "    <tr>\n",
       "      <th>2</th>\n",
       "      <td>462</td>\n",
       "    </tr>\n",
       "    <tr>\n",
       "      <th>3</th>\n",
       "      <td>630</td>\n",
       "    </tr>\n",
       "    <tr>\n",
       "      <th>4</th>\n",
       "      <td>590</td>\n",
       "    </tr>\n",
       "  </tbody>\n",
       "</table>\n",
       "</div>"
      ],
      "text/plain": [
       "         Sales\n",
       "Quarter       \n",
       "1          600\n",
       "2          462\n",
       "3          630\n",
       "4          590"
      ]
     },
     "execution_count": 161,
     "metadata": {},
     "output_type": "execute_result"
    }
   ],
   "source": [
    "df.groupby(['Quarter']).mean()"
   ]
  },
  {
   "cell_type": "code",
   "execution_count": 162,
   "metadata": {},
   "outputs": [
    {
     "data": {
      "text/html": [
       "<div>\n",
       "<style scoped>\n",
       "    .dataframe tbody tr th:only-of-type {\n",
       "        vertical-align: middle;\n",
       "    }\n",
       "\n",
       "    .dataframe tbody tr th {\n",
       "        vertical-align: top;\n",
       "    }\n",
       "\n",
       "    .dataframe thead th {\n",
       "        text-align: right;\n",
       "    }\n",
       "</style>\n",
       "<table border=\"1\" class=\"dataframe\">\n",
       "  <thead>\n",
       "    <tr style=\"text-align: right;\">\n",
       "      <th></th>\n",
       "      <th>Sales</th>\n",
       "    </tr>\n",
       "    <tr>\n",
       "      <th>Quarter</th>\n",
       "      <th></th>\n",
       "    </tr>\n",
       "  </thead>\n",
       "  <tbody>\n",
       "    <tr>\n",
       "      <th>1</th>\n",
       "      <td>600</td>\n",
       "    </tr>\n",
       "    <tr>\n",
       "      <th>2</th>\n",
       "      <td>462</td>\n",
       "    </tr>\n",
       "    <tr>\n",
       "      <th>3</th>\n",
       "      <td>630</td>\n",
       "    </tr>\n",
       "    <tr>\n",
       "      <th>4</th>\n",
       "      <td>590</td>\n",
       "    </tr>\n",
       "  </tbody>\n",
       "</table>\n",
       "</div>"
      ],
      "text/plain": [
       "         Sales\n",
       "Quarter       \n",
       "1          600\n",
       "2          462\n",
       "3          630\n",
       "4          590"
      ]
     },
     "execution_count": 162,
     "metadata": {},
     "output_type": "execute_result"
    }
   ],
   "source": [
    "df.pivot_table(index='Quarter',margins = False)"
   ]
  },
  {
   "cell_type": "code",
   "execution_count": 163,
   "metadata": {},
   "outputs": [
    {
     "data": {
      "text/html": [
       "<div>\n",
       "<style scoped>\n",
       "    .dataframe tbody tr th:only-of-type {\n",
       "        vertical-align: middle;\n",
       "    }\n",
       "\n",
       "    .dataframe tbody tr th {\n",
       "        vertical-align: top;\n",
       "    }\n",
       "\n",
       "    .dataframe thead th {\n",
       "        text-align: right;\n",
       "    }\n",
       "</style>\n",
       "<table border=\"1\" class=\"dataframe\">\n",
       "  <thead>\n",
       "    <tr style=\"text-align: right;\">\n",
       "      <th></th>\n",
       "      <th>Sales</th>\n",
       "    </tr>\n",
       "    <tr>\n",
       "      <th>Quarter</th>\n",
       "      <th></th>\n",
       "    </tr>\n",
       "  </thead>\n",
       "  <tbody>\n",
       "    <tr>\n",
       "      <th>1</th>\n",
       "      <td>600.0</td>\n",
       "    </tr>\n",
       "    <tr>\n",
       "      <th>2</th>\n",
       "      <td>462.0</td>\n",
       "    </tr>\n",
       "    <tr>\n",
       "      <th>3</th>\n",
       "      <td>630.0</td>\n",
       "    </tr>\n",
       "    <tr>\n",
       "      <th>4</th>\n",
       "      <td>590.0</td>\n",
       "    </tr>\n",
       "    <tr>\n",
       "      <th>All</th>\n",
       "      <td>570.5</td>\n",
       "    </tr>\n",
       "  </tbody>\n",
       "</table>\n",
       "</div>"
      ],
      "text/plain": [
       "         Sales\n",
       "Quarter       \n",
       "1        600.0\n",
       "2        462.0\n",
       "3        630.0\n",
       "4        590.0\n",
       "All      570.5"
      ]
     },
     "execution_count": 163,
     "metadata": {},
     "output_type": "execute_result"
    }
   ],
   "source": [
    "df.pivot_table(index='Quarter',margins =True)"
   ]
  },
  {
   "cell_type": "markdown",
   "metadata": {},
   "source": [
    "# Workshop7: ค่าเฉลี่ยยอดขายแต่ละคนในแต่ละไตรมาส"
   ]
  },
  {
   "cell_type": "code",
   "execution_count": 164,
   "metadata": {},
   "outputs": [
    {
     "data": {
      "text/html": [
       "<div>\n",
       "<style scoped>\n",
       "    .dataframe tbody tr th:only-of-type {\n",
       "        vertical-align: middle;\n",
       "    }\n",
       "\n",
       "    .dataframe tbody tr th {\n",
       "        vertical-align: top;\n",
       "    }\n",
       "\n",
       "    .dataframe thead th {\n",
       "        text-align: right;\n",
       "    }\n",
       "</style>\n",
       "<table border=\"1\" class=\"dataframe\">\n",
       "  <thead>\n",
       "    <tr style=\"text-align: right;\">\n",
       "      <th></th>\n",
       "      <th></th>\n",
       "      <th>Sales</th>\n",
       "    </tr>\n",
       "    <tr>\n",
       "      <th>Quarter</th>\n",
       "      <th>Employee</th>\n",
       "      <th></th>\n",
       "    </tr>\n",
       "  </thead>\n",
       "  <tbody>\n",
       "    <tr>\n",
       "      <th rowspan=\"5\" valign=\"top\">1</th>\n",
       "      <th>Bill</th>\n",
       "      <td>800.0</td>\n",
       "    </tr>\n",
       "    <tr>\n",
       "      <th>Kobkiat</th>\n",
       "      <td>300.0</td>\n",
       "    </tr>\n",
       "    <tr>\n",
       "      <th>Maria</th>\n",
       "      <td>500.0</td>\n",
       "    </tr>\n",
       "    <tr>\n",
       "      <th>Nan</th>\n",
       "      <td>1000.0</td>\n",
       "    </tr>\n",
       "    <tr>\n",
       "      <th>Tina</th>\n",
       "      <td>400.0</td>\n",
       "    </tr>\n",
       "    <tr>\n",
       "      <th rowspan=\"5\" valign=\"top\">2</th>\n",
       "      <th>Bill</th>\n",
       "      <td>60.0</td>\n",
       "    </tr>\n",
       "    <tr>\n",
       "      <th>Kobkiat</th>\n",
       "      <td>500.0</td>\n",
       "    </tr>\n",
       "    <tr>\n",
       "      <th>Maria</th>\n",
       "      <td>50.0</td>\n",
       "    </tr>\n",
       "    <tr>\n",
       "      <th>Nan</th>\n",
       "      <td>1000.0</td>\n",
       "    </tr>\n",
       "    <tr>\n",
       "      <th>Tina</th>\n",
       "      <td>700.0</td>\n",
       "    </tr>\n",
       "    <tr>\n",
       "      <th rowspan=\"5\" valign=\"top\">3</th>\n",
       "      <th>Bill</th>\n",
       "      <td>300.0</td>\n",
       "    </tr>\n",
       "    <tr>\n",
       "      <th>Kobkiat</th>\n",
       "      <td>900.0</td>\n",
       "    </tr>\n",
       "    <tr>\n",
       "      <th>Maria</th>\n",
       "      <td>200.0</td>\n",
       "    </tr>\n",
       "    <tr>\n",
       "      <th>Nan</th>\n",
       "      <td>1000.0</td>\n",
       "    </tr>\n",
       "    <tr>\n",
       "      <th>Tina</th>\n",
       "      <td>750.0</td>\n",
       "    </tr>\n",
       "    <tr>\n",
       "      <th rowspan=\"5\" valign=\"top\">4</th>\n",
       "      <th>Bill</th>\n",
       "      <td>50.0</td>\n",
       "    </tr>\n",
       "    <tr>\n",
       "      <th>Kobkiat</th>\n",
       "      <td>900.0</td>\n",
       "    </tr>\n",
       "    <tr>\n",
       "      <th>Maria</th>\n",
       "      <td>750.0</td>\n",
       "    </tr>\n",
       "    <tr>\n",
       "      <th>Nan</th>\n",
       "      <td>1000.0</td>\n",
       "    </tr>\n",
       "    <tr>\n",
       "      <th>Tina</th>\n",
       "      <td>250.0</td>\n",
       "    </tr>\n",
       "    <tr>\n",
       "      <th>All</th>\n",
       "      <th></th>\n",
       "      <td>570.5</td>\n",
       "    </tr>\n",
       "  </tbody>\n",
       "</table>\n",
       "</div>"
      ],
      "text/plain": [
       "                   Sales\n",
       "Quarter Employee        \n",
       "1       Bill       800.0\n",
       "        Kobkiat    300.0\n",
       "        Maria      500.0\n",
       "        Nan       1000.0\n",
       "        Tina       400.0\n",
       "2       Bill        60.0\n",
       "        Kobkiat    500.0\n",
       "        Maria       50.0\n",
       "        Nan       1000.0\n",
       "        Tina       700.0\n",
       "3       Bill       300.0\n",
       "        Kobkiat    900.0\n",
       "        Maria      200.0\n",
       "        Nan       1000.0\n",
       "        Tina       750.0\n",
       "4       Bill        50.0\n",
       "        Kobkiat    900.0\n",
       "        Maria      750.0\n",
       "        Nan       1000.0\n",
       "        Tina       250.0\n",
       "All                570.5"
      ]
     },
     "execution_count": 164,
     "metadata": {},
     "output_type": "execute_result"
    }
   ],
   "source": [
    "df.pivot_table(index=['Quarter','Employee'],margins=True)"
   ]
  },
  {
   "cell_type": "markdown",
   "metadata": {},
   "source": [
    "# Workshop8 : ยอดขายรวมแต่ละไตรมาส"
   ]
  },
  {
   "cell_type": "code",
   "execution_count": 165,
   "metadata": {},
   "outputs": [
    {
     "data": {
      "text/html": [
       "<div>\n",
       "<style scoped>\n",
       "    .dataframe tbody tr th:only-of-type {\n",
       "        vertical-align: middle;\n",
       "    }\n",
       "\n",
       "    .dataframe tbody tr th {\n",
       "        vertical-align: top;\n",
       "    }\n",
       "\n",
       "    .dataframe thead th {\n",
       "        text-align: right;\n",
       "    }\n",
       "</style>\n",
       "<table border=\"1\" class=\"dataframe\">\n",
       "  <thead>\n",
       "    <tr style=\"text-align: right;\">\n",
       "      <th></th>\n",
       "      <th>Sales</th>\n",
       "    </tr>\n",
       "    <tr>\n",
       "      <th>Quarter</th>\n",
       "      <th></th>\n",
       "    </tr>\n",
       "  </thead>\n",
       "  <tbody>\n",
       "    <tr>\n",
       "      <th>1</th>\n",
       "      <td>3000</td>\n",
       "    </tr>\n",
       "    <tr>\n",
       "      <th>2</th>\n",
       "      <td>2310</td>\n",
       "    </tr>\n",
       "    <tr>\n",
       "      <th>3</th>\n",
       "      <td>3150</td>\n",
       "    </tr>\n",
       "    <tr>\n",
       "      <th>4</th>\n",
       "      <td>2950</td>\n",
       "    </tr>\n",
       "    <tr>\n",
       "      <th>All</th>\n",
       "      <td>11410</td>\n",
       "    </tr>\n",
       "  </tbody>\n",
       "</table>\n",
       "</div>"
      ],
      "text/plain": [
       "         Sales\n",
       "Quarter       \n",
       "1         3000\n",
       "2         2310\n",
       "3         3150\n",
       "4         2950\n",
       "All      11410"
      ]
     },
     "execution_count": 165,
     "metadata": {},
     "output_type": "execute_result"
    }
   ],
   "source": [
    "df.pivot_table(index =  ['Quarter'],aggfunc = 'sum',values='Sales',margins = True)"
   ]
  },
  {
   "cell_type": "code",
   "execution_count": 166,
   "metadata": {},
   "outputs": [
    {
     "data": {
      "text/plain": [
       "11410"
      ]
     },
     "execution_count": 166,
     "metadata": {},
     "output_type": "execute_result"
    }
   ],
   "source": [
    "df.Sales.sum()"
   ]
  },
  {
   "cell_type": "code",
   "execution_count": 167,
   "metadata": {},
   "outputs": [
    {
     "data": {
      "text/html": [
       "<style  type=\"text/css\" >\n",
       "</style><table id=\"T_45ef6902_3d75_11eb_be0b_f48c50ba89f1\" ><thead>    <tr>        <th class=\"blank level0\" ></th>        <th class=\"col_heading level0 col0\" >Sales</th>    </tr>    <tr>        <th class=\"index_name level0\" >Quarter</th>        <th class=\"blank\" ></th>    </tr></thead><tbody>\n",
       "                <tr>\n",
       "                        <th id=\"T_45ef6902_3d75_11eb_be0b_f48c50ba89f1level0_row0\" class=\"row_heading level0 row0\" >1</th>\n",
       "                        <td id=\"T_45ef6902_3d75_11eb_be0b_f48c50ba89f1row0_col0\" class=\"data row0 col0\" >3,000</td>\n",
       "            </tr>\n",
       "            <tr>\n",
       "                        <th id=\"T_45ef6902_3d75_11eb_be0b_f48c50ba89f1level0_row1\" class=\"row_heading level0 row1\" >2</th>\n",
       "                        <td id=\"T_45ef6902_3d75_11eb_be0b_f48c50ba89f1row1_col0\" class=\"data row1 col0\" >2,310</td>\n",
       "            </tr>\n",
       "            <tr>\n",
       "                        <th id=\"T_45ef6902_3d75_11eb_be0b_f48c50ba89f1level0_row2\" class=\"row_heading level0 row2\" >3</th>\n",
       "                        <td id=\"T_45ef6902_3d75_11eb_be0b_f48c50ba89f1row2_col0\" class=\"data row2 col0\" >3,150</td>\n",
       "            </tr>\n",
       "            <tr>\n",
       "                        <th id=\"T_45ef6902_3d75_11eb_be0b_f48c50ba89f1level0_row3\" class=\"row_heading level0 row3\" >4</th>\n",
       "                        <td id=\"T_45ef6902_3d75_11eb_be0b_f48c50ba89f1row3_col0\" class=\"data row3 col0\" >2,950</td>\n",
       "            </tr>\n",
       "            <tr>\n",
       "                        <th id=\"T_45ef6902_3d75_11eb_be0b_f48c50ba89f1level0_row4\" class=\"row_heading level0 row4\" >All</th>\n",
       "                        <td id=\"T_45ef6902_3d75_11eb_be0b_f48c50ba89f1row4_col0\" class=\"data row4 col0\" >11,410</td>\n",
       "            </tr>\n",
       "    </tbody></table>"
      ],
      "text/plain": [
       "<pandas.io.formats.style.Styler at 0x26b32ad51c8>"
      ]
     },
     "execution_count": 167,
     "metadata": {},
     "output_type": "execute_result"
    }
   ],
   "source": [
    "# การกำหนด sum โดยใช้ numpy \n",
    "import numpy as np\n",
    "pvt = df.pivot_table(index=['Quarter'], aggfunc = np.sum, margins = True)\n",
    "pvt.style.format({'Sales':\"{:,}\"})"
   ]
  },
  {
   "cell_type": "markdown",
   "metadata": {},
   "source": [
    "# Workshop Special : การจัด format ของ int datatype"
   ]
  },
  {
   "cell_type": "code",
   "execution_count": 168,
   "metadata": {},
   "outputs": [
    {
     "data": {
      "text/html": [
       "<style  type=\"text/css\" >\n",
       "</style><table id=\"T_45f6ddd2_3d75_11eb_a714_f48c50ba89f1\" ><thead>    <tr>        <th class=\"blank level0\" ></th>        <th class=\"col_heading level0 col0\" >Employee</th>        <th class=\"col_heading level0 col1\" >Sales</th>        <th class=\"col_heading level0 col2\" >Quarter</th>        <th class=\"col_heading level0 col3\" >Country</th>    </tr></thead><tbody>\n",
       "                <tr>\n",
       "                        <th id=\"T_45f6ddd2_3d75_11eb_a714_f48c50ba89f1level0_row0\" class=\"row_heading level0 row0\" >0</th>\n",
       "                        <td id=\"T_45f6ddd2_3d75_11eb_a714_f48c50ba89f1row0_col0\" class=\"data row0 col0\" >Nan</td>\n",
       "                        <td id=\"T_45f6ddd2_3d75_11eb_a714_f48c50ba89f1row0_col1\" class=\"data row0 col1\" >1,000.00</td>\n",
       "                        <td id=\"T_45f6ddd2_3d75_11eb_a714_f48c50ba89f1row0_col2\" class=\"data row0 col2\" >1</td>\n",
       "                        <td id=\"T_45f6ddd2_3d75_11eb_a714_f48c50ba89f1row0_col3\" class=\"data row0 col3\" >USA</td>\n",
       "            </tr>\n",
       "            <tr>\n",
       "                        <th id=\"T_45f6ddd2_3d75_11eb_a714_f48c50ba89f1level0_row1\" class=\"row_heading level0 row1\" >1</th>\n",
       "                        <td id=\"T_45f6ddd2_3d75_11eb_a714_f48c50ba89f1row1_col0\" class=\"data row1 col0\" >Kobkiat</td>\n",
       "                        <td id=\"T_45f6ddd2_3d75_11eb_a714_f48c50ba89f1row1_col1\" class=\"data row1 col1\" >300.00</td>\n",
       "                        <td id=\"T_45f6ddd2_3d75_11eb_a714_f48c50ba89f1row1_col2\" class=\"data row1 col2\" >1</td>\n",
       "                        <td id=\"T_45f6ddd2_3d75_11eb_a714_f48c50ba89f1row1_col3\" class=\"data row1 col3\" >Japan</td>\n",
       "            </tr>\n",
       "            <tr>\n",
       "                        <th id=\"T_45f6ddd2_3d75_11eb_a714_f48c50ba89f1level0_row2\" class=\"row_heading level0 row2\" >2</th>\n",
       "                        <td id=\"T_45f6ddd2_3d75_11eb_a714_f48c50ba89f1row2_col0\" class=\"data row2 col0\" >Tina</td>\n",
       "                        <td id=\"T_45f6ddd2_3d75_11eb_a714_f48c50ba89f1row2_col1\" class=\"data row2 col1\" >400.00</td>\n",
       "                        <td id=\"T_45f6ddd2_3d75_11eb_a714_f48c50ba89f1row2_col2\" class=\"data row2 col2\" >1</td>\n",
       "                        <td id=\"T_45f6ddd2_3d75_11eb_a714_f48c50ba89f1row2_col3\" class=\"data row2 col3\" >Thailand</td>\n",
       "            </tr>\n",
       "            <tr>\n",
       "                        <th id=\"T_45f6ddd2_3d75_11eb_a714_f48c50ba89f1level0_row3\" class=\"row_heading level0 row3\" >3</th>\n",
       "                        <td id=\"T_45f6ddd2_3d75_11eb_a714_f48c50ba89f1row3_col0\" class=\"data row3 col0\" >Maria</td>\n",
       "                        <td id=\"T_45f6ddd2_3d75_11eb_a714_f48c50ba89f1row3_col1\" class=\"data row3 col1\" >500.00</td>\n",
       "                        <td id=\"T_45f6ddd2_3d75_11eb_a714_f48c50ba89f1row3_col2\" class=\"data row3 col2\" >1</td>\n",
       "                        <td id=\"T_45f6ddd2_3d75_11eb_a714_f48c50ba89f1row3_col3\" class=\"data row3 col3\" >UK</td>\n",
       "            </tr>\n",
       "            <tr>\n",
       "                        <th id=\"T_45f6ddd2_3d75_11eb_a714_f48c50ba89f1level0_row4\" class=\"row_heading level0 row4\" >4</th>\n",
       "                        <td id=\"T_45f6ddd2_3d75_11eb_a714_f48c50ba89f1row4_col0\" class=\"data row4 col0\" >Bill</td>\n",
       "                        <td id=\"T_45f6ddd2_3d75_11eb_a714_f48c50ba89f1row4_col1\" class=\"data row4 col1\" >800.00</td>\n",
       "                        <td id=\"T_45f6ddd2_3d75_11eb_a714_f48c50ba89f1row4_col2\" class=\"data row4 col2\" >1</td>\n",
       "                        <td id=\"T_45f6ddd2_3d75_11eb_a714_f48c50ba89f1row4_col3\" class=\"data row4 col3\" >USA</td>\n",
       "            </tr>\n",
       "            <tr>\n",
       "                        <th id=\"T_45f6ddd2_3d75_11eb_a714_f48c50ba89f1level0_row5\" class=\"row_heading level0 row5\" >5</th>\n",
       "                        <td id=\"T_45f6ddd2_3d75_11eb_a714_f48c50ba89f1row5_col0\" class=\"data row5 col0\" >Nan</td>\n",
       "                        <td id=\"T_45f6ddd2_3d75_11eb_a714_f48c50ba89f1row5_col1\" class=\"data row5 col1\" >1,000.00</td>\n",
       "                        <td id=\"T_45f6ddd2_3d75_11eb_a714_f48c50ba89f1row5_col2\" class=\"data row5 col2\" >2</td>\n",
       "                        <td id=\"T_45f6ddd2_3d75_11eb_a714_f48c50ba89f1row5_col3\" class=\"data row5 col3\" >USA</td>\n",
       "            </tr>\n",
       "            <tr>\n",
       "                        <th id=\"T_45f6ddd2_3d75_11eb_a714_f48c50ba89f1level0_row6\" class=\"row_heading level0 row6\" >6</th>\n",
       "                        <td id=\"T_45f6ddd2_3d75_11eb_a714_f48c50ba89f1row6_col0\" class=\"data row6 col0\" >Kobkiat</td>\n",
       "                        <td id=\"T_45f6ddd2_3d75_11eb_a714_f48c50ba89f1row6_col1\" class=\"data row6 col1\" >500.00</td>\n",
       "                        <td id=\"T_45f6ddd2_3d75_11eb_a714_f48c50ba89f1row6_col2\" class=\"data row6 col2\" >2</td>\n",
       "                        <td id=\"T_45f6ddd2_3d75_11eb_a714_f48c50ba89f1row6_col3\" class=\"data row6 col3\" >USA</td>\n",
       "            </tr>\n",
       "            <tr>\n",
       "                        <th id=\"T_45f6ddd2_3d75_11eb_a714_f48c50ba89f1level0_row7\" class=\"row_heading level0 row7\" >7</th>\n",
       "                        <td id=\"T_45f6ddd2_3d75_11eb_a714_f48c50ba89f1row7_col0\" class=\"data row7 col0\" >Tina</td>\n",
       "                        <td id=\"T_45f6ddd2_3d75_11eb_a714_f48c50ba89f1row7_col1\" class=\"data row7 col1\" >700.00</td>\n",
       "                        <td id=\"T_45f6ddd2_3d75_11eb_a714_f48c50ba89f1row7_col2\" class=\"data row7 col2\" >2</td>\n",
       "                        <td id=\"T_45f6ddd2_3d75_11eb_a714_f48c50ba89f1row7_col3\" class=\"data row7 col3\" >Thailand</td>\n",
       "            </tr>\n",
       "            <tr>\n",
       "                        <th id=\"T_45f6ddd2_3d75_11eb_a714_f48c50ba89f1level0_row8\" class=\"row_heading level0 row8\" >8</th>\n",
       "                        <td id=\"T_45f6ddd2_3d75_11eb_a714_f48c50ba89f1row8_col0\" class=\"data row8 col0\" >Maria</td>\n",
       "                        <td id=\"T_45f6ddd2_3d75_11eb_a714_f48c50ba89f1row8_col1\" class=\"data row8 col1\" >50.00</td>\n",
       "                        <td id=\"T_45f6ddd2_3d75_11eb_a714_f48c50ba89f1row8_col2\" class=\"data row8 col2\" >2</td>\n",
       "                        <td id=\"T_45f6ddd2_3d75_11eb_a714_f48c50ba89f1row8_col3\" class=\"data row8 col3\" >Japan</td>\n",
       "            </tr>\n",
       "            <tr>\n",
       "                        <th id=\"T_45f6ddd2_3d75_11eb_a714_f48c50ba89f1level0_row9\" class=\"row_heading level0 row9\" >9</th>\n",
       "                        <td id=\"T_45f6ddd2_3d75_11eb_a714_f48c50ba89f1row9_col0\" class=\"data row9 col0\" >Bill</td>\n",
       "                        <td id=\"T_45f6ddd2_3d75_11eb_a714_f48c50ba89f1row9_col1\" class=\"data row9 col1\" >60.00</td>\n",
       "                        <td id=\"T_45f6ddd2_3d75_11eb_a714_f48c50ba89f1row9_col2\" class=\"data row9 col2\" >2</td>\n",
       "                        <td id=\"T_45f6ddd2_3d75_11eb_a714_f48c50ba89f1row9_col3\" class=\"data row9 col3\" >Thailand</td>\n",
       "            </tr>\n",
       "            <tr>\n",
       "                        <th id=\"T_45f6ddd2_3d75_11eb_a714_f48c50ba89f1level0_row10\" class=\"row_heading level0 row10\" >10</th>\n",
       "                        <td id=\"T_45f6ddd2_3d75_11eb_a714_f48c50ba89f1row10_col0\" class=\"data row10 col0\" >Nan</td>\n",
       "                        <td id=\"T_45f6ddd2_3d75_11eb_a714_f48c50ba89f1row10_col1\" class=\"data row10 col1\" >1,000.00</td>\n",
       "                        <td id=\"T_45f6ddd2_3d75_11eb_a714_f48c50ba89f1row10_col2\" class=\"data row10 col2\" >3</td>\n",
       "                        <td id=\"T_45f6ddd2_3d75_11eb_a714_f48c50ba89f1row10_col3\" class=\"data row10 col3\" >Thailand</td>\n",
       "            </tr>\n",
       "            <tr>\n",
       "                        <th id=\"T_45f6ddd2_3d75_11eb_a714_f48c50ba89f1level0_row11\" class=\"row_heading level0 row11\" >11</th>\n",
       "                        <td id=\"T_45f6ddd2_3d75_11eb_a714_f48c50ba89f1row11_col0\" class=\"data row11 col0\" >Kobkiat</td>\n",
       "                        <td id=\"T_45f6ddd2_3d75_11eb_a714_f48c50ba89f1row11_col1\" class=\"data row11 col1\" >900.00</td>\n",
       "                        <td id=\"T_45f6ddd2_3d75_11eb_a714_f48c50ba89f1row11_col2\" class=\"data row11 col2\" >3</td>\n",
       "                        <td id=\"T_45f6ddd2_3d75_11eb_a714_f48c50ba89f1row11_col3\" class=\"data row11 col3\" >UK</td>\n",
       "            </tr>\n",
       "            <tr>\n",
       "                        <th id=\"T_45f6ddd2_3d75_11eb_a714_f48c50ba89f1level0_row12\" class=\"row_heading level0 row12\" >12</th>\n",
       "                        <td id=\"T_45f6ddd2_3d75_11eb_a714_f48c50ba89f1row12_col0\" class=\"data row12 col0\" >Tina</td>\n",
       "                        <td id=\"T_45f6ddd2_3d75_11eb_a714_f48c50ba89f1row12_col1\" class=\"data row12 col1\" >750.00</td>\n",
       "                        <td id=\"T_45f6ddd2_3d75_11eb_a714_f48c50ba89f1row12_col2\" class=\"data row12 col2\" >3</td>\n",
       "                        <td id=\"T_45f6ddd2_3d75_11eb_a714_f48c50ba89f1row12_col3\" class=\"data row12 col3\" >Thailand</td>\n",
       "            </tr>\n",
       "            <tr>\n",
       "                        <th id=\"T_45f6ddd2_3d75_11eb_a714_f48c50ba89f1level0_row13\" class=\"row_heading level0 row13\" >13</th>\n",
       "                        <td id=\"T_45f6ddd2_3d75_11eb_a714_f48c50ba89f1row13_col0\" class=\"data row13 col0\" >Maria</td>\n",
       "                        <td id=\"T_45f6ddd2_3d75_11eb_a714_f48c50ba89f1row13_col1\" class=\"data row13 col1\" >200.00</td>\n",
       "                        <td id=\"T_45f6ddd2_3d75_11eb_a714_f48c50ba89f1row13_col2\" class=\"data row13 col2\" >3</td>\n",
       "                        <td id=\"T_45f6ddd2_3d75_11eb_a714_f48c50ba89f1row13_col3\" class=\"data row13 col3\" >Japan</td>\n",
       "            </tr>\n",
       "            <tr>\n",
       "                        <th id=\"T_45f6ddd2_3d75_11eb_a714_f48c50ba89f1level0_row14\" class=\"row_heading level0 row14\" >14</th>\n",
       "                        <td id=\"T_45f6ddd2_3d75_11eb_a714_f48c50ba89f1row14_col0\" class=\"data row14 col0\" >Bill</td>\n",
       "                        <td id=\"T_45f6ddd2_3d75_11eb_a714_f48c50ba89f1row14_col1\" class=\"data row14 col1\" >300.00</td>\n",
       "                        <td id=\"T_45f6ddd2_3d75_11eb_a714_f48c50ba89f1row14_col2\" class=\"data row14 col2\" >3</td>\n",
       "                        <td id=\"T_45f6ddd2_3d75_11eb_a714_f48c50ba89f1row14_col3\" class=\"data row14 col3\" >USA</td>\n",
       "            </tr>\n",
       "            <tr>\n",
       "                        <th id=\"T_45f6ddd2_3d75_11eb_a714_f48c50ba89f1level0_row15\" class=\"row_heading level0 row15\" >15</th>\n",
       "                        <td id=\"T_45f6ddd2_3d75_11eb_a714_f48c50ba89f1row15_col0\" class=\"data row15 col0\" >Nan</td>\n",
       "                        <td id=\"T_45f6ddd2_3d75_11eb_a714_f48c50ba89f1row15_col1\" class=\"data row15 col1\" >1,000.00</td>\n",
       "                        <td id=\"T_45f6ddd2_3d75_11eb_a714_f48c50ba89f1row15_col2\" class=\"data row15 col2\" >4</td>\n",
       "                        <td id=\"T_45f6ddd2_3d75_11eb_a714_f48c50ba89f1row15_col3\" class=\"data row15 col3\" >USA</td>\n",
       "            </tr>\n",
       "            <tr>\n",
       "                        <th id=\"T_45f6ddd2_3d75_11eb_a714_f48c50ba89f1level0_row16\" class=\"row_heading level0 row16\" >16</th>\n",
       "                        <td id=\"T_45f6ddd2_3d75_11eb_a714_f48c50ba89f1row16_col0\" class=\"data row16 col0\" >Kobkiat</td>\n",
       "                        <td id=\"T_45f6ddd2_3d75_11eb_a714_f48c50ba89f1row16_col1\" class=\"data row16 col1\" >900.00</td>\n",
       "                        <td id=\"T_45f6ddd2_3d75_11eb_a714_f48c50ba89f1row16_col2\" class=\"data row16 col2\" >4</td>\n",
       "                        <td id=\"T_45f6ddd2_3d75_11eb_a714_f48c50ba89f1row16_col3\" class=\"data row16 col3\" >UK</td>\n",
       "            </tr>\n",
       "            <tr>\n",
       "                        <th id=\"T_45f6ddd2_3d75_11eb_a714_f48c50ba89f1level0_row17\" class=\"row_heading level0 row17\" >17</th>\n",
       "                        <td id=\"T_45f6ddd2_3d75_11eb_a714_f48c50ba89f1row17_col0\" class=\"data row17 col0\" >Tina</td>\n",
       "                        <td id=\"T_45f6ddd2_3d75_11eb_a714_f48c50ba89f1row17_col1\" class=\"data row17 col1\" >250.00</td>\n",
       "                        <td id=\"T_45f6ddd2_3d75_11eb_a714_f48c50ba89f1row17_col2\" class=\"data row17 col2\" >4</td>\n",
       "                        <td id=\"T_45f6ddd2_3d75_11eb_a714_f48c50ba89f1row17_col3\" class=\"data row17 col3\" >Thailand</td>\n",
       "            </tr>\n",
       "            <tr>\n",
       "                        <th id=\"T_45f6ddd2_3d75_11eb_a714_f48c50ba89f1level0_row18\" class=\"row_heading level0 row18\" >18</th>\n",
       "                        <td id=\"T_45f6ddd2_3d75_11eb_a714_f48c50ba89f1row18_col0\" class=\"data row18 col0\" >Maria</td>\n",
       "                        <td id=\"T_45f6ddd2_3d75_11eb_a714_f48c50ba89f1row18_col1\" class=\"data row18 col1\" >750.00</td>\n",
       "                        <td id=\"T_45f6ddd2_3d75_11eb_a714_f48c50ba89f1row18_col2\" class=\"data row18 col2\" >4</td>\n",
       "                        <td id=\"T_45f6ddd2_3d75_11eb_a714_f48c50ba89f1row18_col3\" class=\"data row18 col3\" >Japan</td>\n",
       "            </tr>\n",
       "            <tr>\n",
       "                        <th id=\"T_45f6ddd2_3d75_11eb_a714_f48c50ba89f1level0_row19\" class=\"row_heading level0 row19\" >19</th>\n",
       "                        <td id=\"T_45f6ddd2_3d75_11eb_a714_f48c50ba89f1row19_col0\" class=\"data row19 col0\" >Bill</td>\n",
       "                        <td id=\"T_45f6ddd2_3d75_11eb_a714_f48c50ba89f1row19_col1\" class=\"data row19 col1\" >50.00</td>\n",
       "                        <td id=\"T_45f6ddd2_3d75_11eb_a714_f48c50ba89f1row19_col2\" class=\"data row19 col2\" >4</td>\n",
       "                        <td id=\"T_45f6ddd2_3d75_11eb_a714_f48c50ba89f1row19_col3\" class=\"data row19 col3\" >Japan</td>\n",
       "            </tr>\n",
       "    </tbody></table>"
      ],
      "text/plain": [
       "<pandas.io.formats.style.Styler at 0x26b32ad8a48>"
      ]
     },
     "execution_count": 168,
     "metadata": {},
     "output_type": "execute_result"
    }
   ],
   "source": [
    "df = pd.read_csv('pivot_table.csv')\n",
    "df = df.style.format({'Sales':\"{:,.2f}\"})\n",
    "df"
   ]
  },
  {
   "cell_type": "markdown",
   "metadata": {},
   "source": [
    "# Workshop9: ยอดขายรวม เฉลี่ย สูงสุด ต่ำสุด แต่ละไตรมาส"
   ]
  },
  {
   "cell_type": "code",
   "execution_count": 169,
   "metadata": {},
   "outputs": [
    {
     "data": {
      "text/html": [
       "<div>\n",
       "<style scoped>\n",
       "    .dataframe tbody tr th:only-of-type {\n",
       "        vertical-align: middle;\n",
       "    }\n",
       "\n",
       "    .dataframe tbody tr th {\n",
       "        vertical-align: top;\n",
       "    }\n",
       "\n",
       "    .dataframe thead tr th {\n",
       "        text-align: left;\n",
       "    }\n",
       "\n",
       "    .dataframe thead tr:last-of-type th {\n",
       "        text-align: right;\n",
       "    }\n",
       "</style>\n",
       "<table border=\"1\" class=\"dataframe\">\n",
       "  <thead>\n",
       "    <tr>\n",
       "      <th></th>\n",
       "      <th>sum</th>\n",
       "      <th>max</th>\n",
       "      <th>min</th>\n",
       "      <th>mean</th>\n",
       "    </tr>\n",
       "    <tr>\n",
       "      <th></th>\n",
       "      <th>Sales</th>\n",
       "      <th>Sales</th>\n",
       "      <th>Sales</th>\n",
       "      <th>Sales</th>\n",
       "    </tr>\n",
       "    <tr>\n",
       "      <th>Quarter</th>\n",
       "      <th></th>\n",
       "      <th></th>\n",
       "      <th></th>\n",
       "      <th></th>\n",
       "    </tr>\n",
       "  </thead>\n",
       "  <tbody>\n",
       "    <tr>\n",
       "      <th>1</th>\n",
       "      <td>3000</td>\n",
       "      <td>1000</td>\n",
       "      <td>300</td>\n",
       "      <td>600.0</td>\n",
       "    </tr>\n",
       "    <tr>\n",
       "      <th>2</th>\n",
       "      <td>2310</td>\n",
       "      <td>1000</td>\n",
       "      <td>50</td>\n",
       "      <td>462.0</td>\n",
       "    </tr>\n",
       "    <tr>\n",
       "      <th>3</th>\n",
       "      <td>3150</td>\n",
       "      <td>1000</td>\n",
       "      <td>200</td>\n",
       "      <td>630.0</td>\n",
       "    </tr>\n",
       "    <tr>\n",
       "      <th>4</th>\n",
       "      <td>2950</td>\n",
       "      <td>1000</td>\n",
       "      <td>50</td>\n",
       "      <td>590.0</td>\n",
       "    </tr>\n",
       "    <tr>\n",
       "      <th>All</th>\n",
       "      <td>11410</td>\n",
       "      <td>1000</td>\n",
       "      <td>50</td>\n",
       "      <td>570.5</td>\n",
       "    </tr>\n",
       "  </tbody>\n",
       "</table>\n",
       "</div>"
      ],
      "text/plain": [
       "           sum   max   min   mean\n",
       "         Sales Sales Sales  Sales\n",
       "Quarter                          \n",
       "1         3000  1000   300  600.0\n",
       "2         2310  1000    50  462.0\n",
       "3         3150  1000   200  630.0\n",
       "4         2950  1000    50  590.0\n",
       "All      11410  1000    50  570.5"
      ]
     },
     "execution_count": 169,
     "metadata": {},
     "output_type": "execute_result"
    }
   ],
   "source": [
    "df = pd.read_csv('pivot_table.csv')\n",
    "# df\n",
    "pvt = df.pivot_table(index='Quarter',aggfunc=['sum','max','min','mean'],margins=True,values=['Sales'])\n",
    "pvt"
   ]
  },
  {
   "cell_type": "code",
   "execution_count": 170,
   "metadata": {},
   "outputs": [
    {
     "data": {
      "text/html": [
       "<div>\n",
       "<style scoped>\n",
       "    .dataframe tbody tr th:only-of-type {\n",
       "        vertical-align: middle;\n",
       "    }\n",
       "\n",
       "    .dataframe tbody tr th {\n",
       "        vertical-align: top;\n",
       "    }\n",
       "\n",
       "    .dataframe thead tr th {\n",
       "        text-align: left;\n",
       "    }\n",
       "\n",
       "    .dataframe thead tr:last-of-type th {\n",
       "        text-align: right;\n",
       "    }\n",
       "</style>\n",
       "<table border=\"1\" class=\"dataframe\">\n",
       "  <thead>\n",
       "    <tr>\n",
       "      <th></th>\n",
       "      <th>min</th>\n",
       "      <th>max</th>\n",
       "      <th>mean</th>\n",
       "      <th>sum</th>\n",
       "    </tr>\n",
       "    <tr>\n",
       "      <th></th>\n",
       "      <th>Sales</th>\n",
       "      <th>Sales</th>\n",
       "      <th>Sales</th>\n",
       "      <th>Sales</th>\n",
       "    </tr>\n",
       "    <tr>\n",
       "      <th>Quarter</th>\n",
       "      <th></th>\n",
       "      <th></th>\n",
       "      <th></th>\n",
       "      <th></th>\n",
       "    </tr>\n",
       "  </thead>\n",
       "  <tbody>\n",
       "    <tr>\n",
       "      <th>1</th>\n",
       "      <td>300</td>\n",
       "      <td>1000</td>\n",
       "      <td>600.0</td>\n",
       "      <td>3000</td>\n",
       "    </tr>\n",
       "    <tr>\n",
       "      <th>2</th>\n",
       "      <td>50</td>\n",
       "      <td>1000</td>\n",
       "      <td>462.0</td>\n",
       "      <td>2310</td>\n",
       "    </tr>\n",
       "    <tr>\n",
       "      <th>3</th>\n",
       "      <td>200</td>\n",
       "      <td>1000</td>\n",
       "      <td>630.0</td>\n",
       "      <td>3150</td>\n",
       "    </tr>\n",
       "    <tr>\n",
       "      <th>4</th>\n",
       "      <td>50</td>\n",
       "      <td>1000</td>\n",
       "      <td>590.0</td>\n",
       "      <td>2950</td>\n",
       "    </tr>\n",
       "    <tr>\n",
       "      <th>All</th>\n",
       "      <td>50</td>\n",
       "      <td>1000</td>\n",
       "      <td>570.5</td>\n",
       "      <td>11410</td>\n",
       "    </tr>\n",
       "  </tbody>\n",
       "</table>\n",
       "</div>"
      ],
      "text/plain": [
       "          min   max   mean    sum\n",
       "        Sales Sales  Sales  Sales\n",
       "Quarter                          \n",
       "1         300  1000  600.0   3000\n",
       "2          50  1000  462.0   2310\n",
       "3         200  1000  630.0   3150\n",
       "4          50  1000  590.0   2950\n",
       "All        50  1000  570.5  11410"
      ]
     },
     "execution_count": 170,
     "metadata": {},
     "output_type": "execute_result"
    }
   ],
   "source": [
    "df.pivot_table(index = ['Quarter'],values =['Sales'],aggfunc = ['min','max','mean','sum'],margins =True)"
   ]
  },
  {
   "cell_type": "markdown",
   "metadata": {},
   "source": [
    "## บางคอลัม คิดรวม บางคอลัม หาค่าเฉลี่ย"
   ]
  },
  {
   "cell_type": "code",
   "execution_count": 171,
   "metadata": {},
   "outputs": [
    {
     "data": {
      "text/html": [
       "<div>\n",
       "<style scoped>\n",
       "    .dataframe tbody tr th:only-of-type {\n",
       "        vertical-align: middle;\n",
       "    }\n",
       "\n",
       "    .dataframe tbody tr th {\n",
       "        vertical-align: top;\n",
       "    }\n",
       "\n",
       "    .dataframe thead th {\n",
       "        text-align: right;\n",
       "    }\n",
       "</style>\n",
       "<table border=\"1\" class=\"dataframe\">\n",
       "  <thead>\n",
       "    <tr style=\"text-align: right;\">\n",
       "      <th></th>\n",
       "      <th>Employee</th>\n",
       "      <th>Sales</th>\n",
       "      <th>Quarter</th>\n",
       "      <th>Country</th>\n",
       "      <th>Import</th>\n",
       "      <th>Export</th>\n",
       "    </tr>\n",
       "  </thead>\n",
       "  <tbody>\n",
       "    <tr>\n",
       "      <th>0</th>\n",
       "      <td>Nan</td>\n",
       "      <td>1000</td>\n",
       "      <td>1</td>\n",
       "      <td>USA</td>\n",
       "      <td>880</td>\n",
       "      <td>1200.0</td>\n",
       "    </tr>\n",
       "    <tr>\n",
       "      <th>1</th>\n",
       "      <td>Kobkiat</td>\n",
       "      <td>300</td>\n",
       "      <td>1</td>\n",
       "      <td>Japan</td>\n",
       "      <td>180</td>\n",
       "      <td>360.0</td>\n",
       "    </tr>\n",
       "    <tr>\n",
       "      <th>2</th>\n",
       "      <td>Tina</td>\n",
       "      <td>400</td>\n",
       "      <td>1</td>\n",
       "      <td>Thailand</td>\n",
       "      <td>280</td>\n",
       "      <td>480.0</td>\n",
       "    </tr>\n",
       "    <tr>\n",
       "      <th>3</th>\n",
       "      <td>Maria</td>\n",
       "      <td>500</td>\n",
       "      <td>1</td>\n",
       "      <td>UK</td>\n",
       "      <td>380</td>\n",
       "      <td>600.0</td>\n",
       "    </tr>\n",
       "    <tr>\n",
       "      <th>4</th>\n",
       "      <td>Bill</td>\n",
       "      <td>800</td>\n",
       "      <td>1</td>\n",
       "      <td>USA</td>\n",
       "      <td>680</td>\n",
       "      <td>960.0</td>\n",
       "    </tr>\n",
       "    <tr>\n",
       "      <th>5</th>\n",
       "      <td>Nan</td>\n",
       "      <td>1000</td>\n",
       "      <td>2</td>\n",
       "      <td>USA</td>\n",
       "      <td>880</td>\n",
       "      <td>1200.0</td>\n",
       "    </tr>\n",
       "    <tr>\n",
       "      <th>6</th>\n",
       "      <td>Kobkiat</td>\n",
       "      <td>500</td>\n",
       "      <td>2</td>\n",
       "      <td>USA</td>\n",
       "      <td>380</td>\n",
       "      <td>600.0</td>\n",
       "    </tr>\n",
       "    <tr>\n",
       "      <th>7</th>\n",
       "      <td>Tina</td>\n",
       "      <td>700</td>\n",
       "      <td>2</td>\n",
       "      <td>Thailand</td>\n",
       "      <td>580</td>\n",
       "      <td>840.0</td>\n",
       "    </tr>\n",
       "    <tr>\n",
       "      <th>8</th>\n",
       "      <td>Maria</td>\n",
       "      <td>50</td>\n",
       "      <td>2</td>\n",
       "      <td>Japan</td>\n",
       "      <td>-70</td>\n",
       "      <td>60.0</td>\n",
       "    </tr>\n",
       "    <tr>\n",
       "      <th>9</th>\n",
       "      <td>Bill</td>\n",
       "      <td>60</td>\n",
       "      <td>2</td>\n",
       "      <td>Thailand</td>\n",
       "      <td>-60</td>\n",
       "      <td>72.0</td>\n",
       "    </tr>\n",
       "    <tr>\n",
       "      <th>10</th>\n",
       "      <td>Nan</td>\n",
       "      <td>1000</td>\n",
       "      <td>3</td>\n",
       "      <td>Thailand</td>\n",
       "      <td>880</td>\n",
       "      <td>1200.0</td>\n",
       "    </tr>\n",
       "    <tr>\n",
       "      <th>11</th>\n",
       "      <td>Kobkiat</td>\n",
       "      <td>900</td>\n",
       "      <td>3</td>\n",
       "      <td>UK</td>\n",
       "      <td>780</td>\n",
       "      <td>1080.0</td>\n",
       "    </tr>\n",
       "    <tr>\n",
       "      <th>12</th>\n",
       "      <td>Tina</td>\n",
       "      <td>750</td>\n",
       "      <td>3</td>\n",
       "      <td>Thailand</td>\n",
       "      <td>630</td>\n",
       "      <td>900.0</td>\n",
       "    </tr>\n",
       "    <tr>\n",
       "      <th>13</th>\n",
       "      <td>Maria</td>\n",
       "      <td>200</td>\n",
       "      <td>3</td>\n",
       "      <td>Japan</td>\n",
       "      <td>80</td>\n",
       "      <td>240.0</td>\n",
       "    </tr>\n",
       "    <tr>\n",
       "      <th>14</th>\n",
       "      <td>Bill</td>\n",
       "      <td>300</td>\n",
       "      <td>3</td>\n",
       "      <td>USA</td>\n",
       "      <td>180</td>\n",
       "      <td>360.0</td>\n",
       "    </tr>\n",
       "    <tr>\n",
       "      <th>15</th>\n",
       "      <td>Nan</td>\n",
       "      <td>1000</td>\n",
       "      <td>4</td>\n",
       "      <td>USA</td>\n",
       "      <td>880</td>\n",
       "      <td>1200.0</td>\n",
       "    </tr>\n",
       "    <tr>\n",
       "      <th>16</th>\n",
       "      <td>Kobkiat</td>\n",
       "      <td>900</td>\n",
       "      <td>4</td>\n",
       "      <td>UK</td>\n",
       "      <td>780</td>\n",
       "      <td>1080.0</td>\n",
       "    </tr>\n",
       "    <tr>\n",
       "      <th>17</th>\n",
       "      <td>Tina</td>\n",
       "      <td>250</td>\n",
       "      <td>4</td>\n",
       "      <td>Thailand</td>\n",
       "      <td>130</td>\n",
       "      <td>300.0</td>\n",
       "    </tr>\n",
       "    <tr>\n",
       "      <th>18</th>\n",
       "      <td>Maria</td>\n",
       "      <td>750</td>\n",
       "      <td>4</td>\n",
       "      <td>Japan</td>\n",
       "      <td>630</td>\n",
       "      <td>900.0</td>\n",
       "    </tr>\n",
       "    <tr>\n",
       "      <th>19</th>\n",
       "      <td>Bill</td>\n",
       "      <td>50</td>\n",
       "      <td>4</td>\n",
       "      <td>Japan</td>\n",
       "      <td>-70</td>\n",
       "      <td>60.0</td>\n",
       "    </tr>\n",
       "  </tbody>\n",
       "</table>\n",
       "</div>"
      ],
      "text/plain": [
       "   Employee  Sales  Quarter   Country  Import  Export\n",
       "0       Nan   1000        1       USA     880  1200.0\n",
       "1   Kobkiat    300        1     Japan     180   360.0\n",
       "2      Tina    400        1  Thailand     280   480.0\n",
       "3     Maria    500        1        UK     380   600.0\n",
       "4      Bill    800        1       USA     680   960.0\n",
       "5       Nan   1000        2       USA     880  1200.0\n",
       "6   Kobkiat    500        2       USA     380   600.0\n",
       "7      Tina    700        2  Thailand     580   840.0\n",
       "8     Maria     50        2     Japan     -70    60.0\n",
       "9      Bill     60        2  Thailand     -60    72.0\n",
       "10      Nan   1000        3  Thailand     880  1200.0\n",
       "11  Kobkiat    900        3        UK     780  1080.0\n",
       "12     Tina    750        3  Thailand     630   900.0\n",
       "13    Maria    200        3     Japan      80   240.0\n",
       "14     Bill    300        3       USA     180   360.0\n",
       "15      Nan   1000        4       USA     880  1200.0\n",
       "16  Kobkiat    900        4        UK     780  1080.0\n",
       "17     Tina    250        4  Thailand     130   300.0\n",
       "18    Maria    750        4     Japan     630   900.0\n",
       "19     Bill     50        4     Japan     -70    60.0"
      ]
     },
     "execution_count": 171,
     "metadata": {},
     "output_type": "execute_result"
    }
   ],
   "source": [
    "df = pd.read_csv('pivot_table.csv')\n",
    "df['Import'] = df.Sales - 120\n",
    "df['Export'] = df.Sales *1.20\n",
    "df"
   ]
  },
  {
   "cell_type": "code",
   "execution_count": 172,
   "metadata": {},
   "outputs": [
    {
     "data": {
      "text/html": [
       "<div>\n",
       "<style scoped>\n",
       "    .dataframe tbody tr th:only-of-type {\n",
       "        vertical-align: middle;\n",
       "    }\n",
       "\n",
       "    .dataframe tbody tr th {\n",
       "        vertical-align: top;\n",
       "    }\n",
       "\n",
       "    .dataframe thead th {\n",
       "        text-align: right;\n",
       "    }\n",
       "</style>\n",
       "<table border=\"1\" class=\"dataframe\">\n",
       "  <thead>\n",
       "    <tr style=\"text-align: right;\">\n",
       "      <th></th>\n",
       "      <th>Import</th>\n",
       "      <th>Sales</th>\n",
       "    </tr>\n",
       "    <tr>\n",
       "      <th>Quarter</th>\n",
       "      <th></th>\n",
       "      <th></th>\n",
       "    </tr>\n",
       "  </thead>\n",
       "  <tbody>\n",
       "    <tr>\n",
       "      <th>1</th>\n",
       "      <td>480</td>\n",
       "      <td>3000</td>\n",
       "    </tr>\n",
       "    <tr>\n",
       "      <th>2</th>\n",
       "      <td>342</td>\n",
       "      <td>2310</td>\n",
       "    </tr>\n",
       "    <tr>\n",
       "      <th>3</th>\n",
       "      <td>510</td>\n",
       "      <td>3150</td>\n",
       "    </tr>\n",
       "    <tr>\n",
       "      <th>4</th>\n",
       "      <td>470</td>\n",
       "      <td>2950</td>\n",
       "    </tr>\n",
       "  </tbody>\n",
       "</table>\n",
       "</div>"
      ],
      "text/plain": [
       "         Import  Sales\n",
       "Quarter               \n",
       "1           480   3000\n",
       "2           342   2310\n",
       "3           510   3150\n",
       "4           470   2950"
      ]
     },
     "execution_count": 172,
     "metadata": {},
     "output_type": "execute_result"
    }
   ],
   "source": [
    "df.pivot_table(index=['Quarter'],aggfunc = {'Sales':'sum','Import':'mean'},values=['Sales','Import'])"
   ]
  },
  {
   "cell_type": "code",
   "execution_count": 173,
   "metadata": {},
   "outputs": [
    {
     "data": {
      "text/html": [
       "<div>\n",
       "<style scoped>\n",
       "    .dataframe tbody tr th:only-of-type {\n",
       "        vertical-align: middle;\n",
       "    }\n",
       "\n",
       "    .dataframe tbody tr th {\n",
       "        vertical-align: top;\n",
       "    }\n",
       "\n",
       "    .dataframe thead th {\n",
       "        text-align: right;\n",
       "    }\n",
       "</style>\n",
       "<table border=\"1\" class=\"dataframe\">\n",
       "  <thead>\n",
       "    <tr style=\"text-align: right;\">\n",
       "      <th></th>\n",
       "      <th>Employee</th>\n",
       "      <th>Sales</th>\n",
       "      <th>Quarter</th>\n",
       "      <th>Country</th>\n",
       "      <th>Import</th>\n",
       "      <th>Export</th>\n",
       "    </tr>\n",
       "  </thead>\n",
       "  <tbody>\n",
       "    <tr>\n",
       "      <th>0</th>\n",
       "      <td>Nan</td>\n",
       "      <td>1000</td>\n",
       "      <td>1</td>\n",
       "      <td>USA</td>\n",
       "      <td>880</td>\n",
       "      <td>1200.0</td>\n",
       "    </tr>\n",
       "    <tr>\n",
       "      <th>1</th>\n",
       "      <td>Kobkiat</td>\n",
       "      <td>300</td>\n",
       "      <td>1</td>\n",
       "      <td>Japan</td>\n",
       "      <td>180</td>\n",
       "      <td>360.0</td>\n",
       "    </tr>\n",
       "    <tr>\n",
       "      <th>2</th>\n",
       "      <td>Tina</td>\n",
       "      <td>400</td>\n",
       "      <td>1</td>\n",
       "      <td>Thailand</td>\n",
       "      <td>280</td>\n",
       "      <td>480.0</td>\n",
       "    </tr>\n",
       "    <tr>\n",
       "      <th>3</th>\n",
       "      <td>Maria</td>\n",
       "      <td>500</td>\n",
       "      <td>1</td>\n",
       "      <td>UK</td>\n",
       "      <td>380</td>\n",
       "      <td>600.0</td>\n",
       "    </tr>\n",
       "    <tr>\n",
       "      <th>4</th>\n",
       "      <td>Bill</td>\n",
       "      <td>800</td>\n",
       "      <td>1</td>\n",
       "      <td>USA</td>\n",
       "      <td>680</td>\n",
       "      <td>960.0</td>\n",
       "    </tr>\n",
       "    <tr>\n",
       "      <th>5</th>\n",
       "      <td>Nan</td>\n",
       "      <td>1000</td>\n",
       "      <td>2</td>\n",
       "      <td>USA</td>\n",
       "      <td>880</td>\n",
       "      <td>1200.0</td>\n",
       "    </tr>\n",
       "    <tr>\n",
       "      <th>6</th>\n",
       "      <td>Kobkiat</td>\n",
       "      <td>500</td>\n",
       "      <td>2</td>\n",
       "      <td>USA</td>\n",
       "      <td>380</td>\n",
       "      <td>600.0</td>\n",
       "    </tr>\n",
       "    <tr>\n",
       "      <th>7</th>\n",
       "      <td>Tina</td>\n",
       "      <td>700</td>\n",
       "      <td>2</td>\n",
       "      <td>Thailand</td>\n",
       "      <td>580</td>\n",
       "      <td>840.0</td>\n",
       "    </tr>\n",
       "    <tr>\n",
       "      <th>8</th>\n",
       "      <td>Maria</td>\n",
       "      <td>50</td>\n",
       "      <td>2</td>\n",
       "      <td>Japan</td>\n",
       "      <td>-70</td>\n",
       "      <td>60.0</td>\n",
       "    </tr>\n",
       "    <tr>\n",
       "      <th>9</th>\n",
       "      <td>Bill</td>\n",
       "      <td>60</td>\n",
       "      <td>2</td>\n",
       "      <td>Thailand</td>\n",
       "      <td>-60</td>\n",
       "      <td>72.0</td>\n",
       "    </tr>\n",
       "    <tr>\n",
       "      <th>10</th>\n",
       "      <td>Nan</td>\n",
       "      <td>1000</td>\n",
       "      <td>3</td>\n",
       "      <td>Thailand</td>\n",
       "      <td>880</td>\n",
       "      <td>1200.0</td>\n",
       "    </tr>\n",
       "    <tr>\n",
       "      <th>11</th>\n",
       "      <td>Kobkiat</td>\n",
       "      <td>900</td>\n",
       "      <td>3</td>\n",
       "      <td>UK</td>\n",
       "      <td>780</td>\n",
       "      <td>1080.0</td>\n",
       "    </tr>\n",
       "    <tr>\n",
       "      <th>12</th>\n",
       "      <td>Tina</td>\n",
       "      <td>750</td>\n",
       "      <td>3</td>\n",
       "      <td>Thailand</td>\n",
       "      <td>630</td>\n",
       "      <td>900.0</td>\n",
       "    </tr>\n",
       "    <tr>\n",
       "      <th>13</th>\n",
       "      <td>Maria</td>\n",
       "      <td>200</td>\n",
       "      <td>3</td>\n",
       "      <td>Japan</td>\n",
       "      <td>80</td>\n",
       "      <td>240.0</td>\n",
       "    </tr>\n",
       "    <tr>\n",
       "      <th>14</th>\n",
       "      <td>Bill</td>\n",
       "      <td>300</td>\n",
       "      <td>3</td>\n",
       "      <td>USA</td>\n",
       "      <td>180</td>\n",
       "      <td>360.0</td>\n",
       "    </tr>\n",
       "    <tr>\n",
       "      <th>15</th>\n",
       "      <td>Nan</td>\n",
       "      <td>1000</td>\n",
       "      <td>4</td>\n",
       "      <td>USA</td>\n",
       "      <td>880</td>\n",
       "      <td>1200.0</td>\n",
       "    </tr>\n",
       "    <tr>\n",
       "      <th>16</th>\n",
       "      <td>Kobkiat</td>\n",
       "      <td>900</td>\n",
       "      <td>4</td>\n",
       "      <td>UK</td>\n",
       "      <td>780</td>\n",
       "      <td>1080.0</td>\n",
       "    </tr>\n",
       "    <tr>\n",
       "      <th>17</th>\n",
       "      <td>Tina</td>\n",
       "      <td>250</td>\n",
       "      <td>4</td>\n",
       "      <td>Thailand</td>\n",
       "      <td>130</td>\n",
       "      <td>300.0</td>\n",
       "    </tr>\n",
       "    <tr>\n",
       "      <th>18</th>\n",
       "      <td>Maria</td>\n",
       "      <td>750</td>\n",
       "      <td>4</td>\n",
       "      <td>Japan</td>\n",
       "      <td>630</td>\n",
       "      <td>900.0</td>\n",
       "    </tr>\n",
       "    <tr>\n",
       "      <th>19</th>\n",
       "      <td>Bill</td>\n",
       "      <td>50</td>\n",
       "      <td>4</td>\n",
       "      <td>Japan</td>\n",
       "      <td>-70</td>\n",
       "      <td>60.0</td>\n",
       "    </tr>\n",
       "  </tbody>\n",
       "</table>\n",
       "</div>"
      ],
      "text/plain": [
       "   Employee  Sales  Quarter   Country  Import  Export\n",
       "0       Nan   1000        1       USA     880  1200.0\n",
       "1   Kobkiat    300        1     Japan     180   360.0\n",
       "2      Tina    400        1  Thailand     280   480.0\n",
       "3     Maria    500        1        UK     380   600.0\n",
       "4      Bill    800        1       USA     680   960.0\n",
       "5       Nan   1000        2       USA     880  1200.0\n",
       "6   Kobkiat    500        2       USA     380   600.0\n",
       "7      Tina    700        2  Thailand     580   840.0\n",
       "8     Maria     50        2     Japan     -70    60.0\n",
       "9      Bill     60        2  Thailand     -60    72.0\n",
       "10      Nan   1000        3  Thailand     880  1200.0\n",
       "11  Kobkiat    900        3        UK     780  1080.0\n",
       "12     Tina    750        3  Thailand     630   900.0\n",
       "13    Maria    200        3     Japan      80   240.0\n",
       "14     Bill    300        3       USA     180   360.0\n",
       "15      Nan   1000        4       USA     880  1200.0\n",
       "16  Kobkiat    900        4        UK     780  1080.0\n",
       "17     Tina    250        4  Thailand     130   300.0\n",
       "18    Maria    750        4     Japan     630   900.0\n",
       "19     Bill     50        4     Japan     -70    60.0"
      ]
     },
     "execution_count": 173,
     "metadata": {},
     "output_type": "execute_result"
    }
   ],
   "source": [
    "# df = df.style.format({'Import':'{:,.2f}','Export':'{:,.2f}'})\n",
    "df"
   ]
  },
  {
   "cell_type": "code",
   "execution_count": 174,
   "metadata": {},
   "outputs": [
    {
     "data": {
      "text/html": [
       "<div>\n",
       "<style scoped>\n",
       "    .dataframe tbody tr th:only-of-type {\n",
       "        vertical-align: middle;\n",
       "    }\n",
       "\n",
       "    .dataframe tbody tr th {\n",
       "        vertical-align: top;\n",
       "    }\n",
       "\n",
       "    .dataframe thead th {\n",
       "        text-align: right;\n",
       "    }\n",
       "</style>\n",
       "<table border=\"1\" class=\"dataframe\">\n",
       "  <thead>\n",
       "    <tr style=\"text-align: right;\">\n",
       "      <th></th>\n",
       "      <th>Export</th>\n",
       "      <th>Import</th>\n",
       "      <th>Sales</th>\n",
       "    </tr>\n",
       "    <tr>\n",
       "      <th>Quarter</th>\n",
       "      <th></th>\n",
       "      <th></th>\n",
       "      <th></th>\n",
       "    </tr>\n",
       "  </thead>\n",
       "  <tbody>\n",
       "    <tr>\n",
       "      <th>1</th>\n",
       "      <td>360.0</td>\n",
       "      <td>480</td>\n",
       "      <td>3000</td>\n",
       "    </tr>\n",
       "    <tr>\n",
       "      <th>2</th>\n",
       "      <td>60.0</td>\n",
       "      <td>342</td>\n",
       "      <td>2310</td>\n",
       "    </tr>\n",
       "    <tr>\n",
       "      <th>3</th>\n",
       "      <td>240.0</td>\n",
       "      <td>510</td>\n",
       "      <td>3150</td>\n",
       "    </tr>\n",
       "    <tr>\n",
       "      <th>4</th>\n",
       "      <td>60.0</td>\n",
       "      <td>470</td>\n",
       "      <td>2950</td>\n",
       "    </tr>\n",
       "  </tbody>\n",
       "</table>\n",
       "</div>"
      ],
      "text/plain": [
       "         Export  Import  Sales\n",
       "Quarter                       \n",
       "1         360.0     480   3000\n",
       "2          60.0     342   2310\n",
       "3         240.0     510   3150\n",
       "4          60.0     470   2950"
      ]
     },
     "execution_count": 174,
     "metadata": {},
     "output_type": "execute_result"
    }
   ],
   "source": [
    "df.pivot_table(index=['Quarter'],values=['Sales','Import','Export'], aggfunc = {\"Sales\":'sum','Import':'mean', 'Export':'min'})"
   ]
  },
  {
   "cell_type": "markdown",
   "metadata": {},
   "source": [
    "# Workshop 11: การ plot graph"
   ]
  },
  {
   "cell_type": "code",
   "execution_count": 175,
   "metadata": {},
   "outputs": [
    {
     "data": {
      "text/html": [
       "<div>\n",
       "<style scoped>\n",
       "    .dataframe tbody tr th:only-of-type {\n",
       "        vertical-align: middle;\n",
       "    }\n",
       "\n",
       "    .dataframe tbody tr th {\n",
       "        vertical-align: top;\n",
       "    }\n",
       "\n",
       "    .dataframe thead th {\n",
       "        text-align: right;\n",
       "    }\n",
       "</style>\n",
       "<table border=\"1\" class=\"dataframe\">\n",
       "  <thead>\n",
       "    <tr style=\"text-align: right;\">\n",
       "      <th></th>\n",
       "      <th>Sales</th>\n",
       "    </tr>\n",
       "    <tr>\n",
       "      <th>Quarter</th>\n",
       "      <th></th>\n",
       "    </tr>\n",
       "  </thead>\n",
       "  <tbody>\n",
       "    <tr>\n",
       "      <th>1</th>\n",
       "      <td>3000</td>\n",
       "    </tr>\n",
       "    <tr>\n",
       "      <th>2</th>\n",
       "      <td>2310</td>\n",
       "    </tr>\n",
       "    <tr>\n",
       "      <th>3</th>\n",
       "      <td>3150</td>\n",
       "    </tr>\n",
       "    <tr>\n",
       "      <th>4</th>\n",
       "      <td>2950</td>\n",
       "    </tr>\n",
       "  </tbody>\n",
       "</table>\n",
       "</div>"
      ],
      "text/plain": [
       "         Sales\n",
       "Quarter       \n",
       "1         3000\n",
       "2         2310\n",
       "3         3150\n",
       "4         2950"
      ]
     },
     "execution_count": 175,
     "metadata": {},
     "output_type": "execute_result"
    }
   ],
   "source": [
    "%matplotlib inline\n",
    "pvt = df.pivot_table(index=['Quarter'],aggfunc = 'sum',values=['Sales'])\n",
    "pvt"
   ]
  },
  {
   "cell_type": "code",
   "execution_count": 176,
   "metadata": {},
   "outputs": [
    {
     "data": {
      "text/plain": [
       "<matplotlib.axes._subplots.AxesSubplot at 0x26b32afa9c8>"
      ]
     },
     "execution_count": 176,
     "metadata": {},
     "output_type": "execute_result"
    },
    {
     "data": {
      "image/png": "[encoded data removed]",
      "text/plain": [
       "<Figure size 432x288 with 1 Axes>"
      ]
     },
     "metadata": {
      "needs_background": "light"
     },
     "output_type": "display_data"
    }
   ],
   "source": [
    "pvt.plot.bar()"
   ]
  },
  {
   "cell_type": "code",
   "execution_count": 177,
   "metadata": {},
   "outputs": [
    {
     "data": {
      "text/plain": [
       "<matplotlib.axes._subplots.AxesSubplot at 0x26b32b5cb88>"
      ]
     },
     "execution_count": 177,
     "metadata": {},
     "output_type": "execute_result"
    },
    {
     "data": {
      "image/png": "[encoded data removed]",
      "text/plain": [
       "<Figure size 432x288 with 1 Axes>"
      ]
     },
     "metadata": {
      "needs_background": "light"
     },
     "output_type": "display_data"
    }
   ],
   "source": [
    "pvt_sorted = pvt.sort_values(by='Sales',ascending=True)\n",
    "pvt_sorted.plot.bar()"
   ]
  },
  {
   "cell_type": "markdown",
   "metadata": {},
   "source": [
    "# Workshop12 : ยอดขายรวมของแต่ละคน"
   ]
  },
  {
   "cell_type": "code",
   "execution_count": 178,
   "metadata": {},
   "outputs": [],
   "source": [
    "import pandas as pd\n",
    "import matplotlib.pyplot as plt\n",
    "import numpy as np\n",
    "df.to_csv('pivot_table.csv',index=False)"
   ]
  },
  {
   "cell_type": "code",
   "execution_count": 179,
   "metadata": {},
   "outputs": [
    {
     "data": {
      "text/html": [
       "<div>\n",
       "<style scoped>\n",
       "    .dataframe tbody tr th:only-of-type {\n",
       "        vertical-align: middle;\n",
       "    }\n",
       "\n",
       "    .dataframe tbody tr th {\n",
       "        vertical-align: top;\n",
       "    }\n",
       "\n",
       "    .dataframe thead th {\n",
       "        text-align: right;\n",
       "    }\n",
       "</style>\n",
       "<table border=\"1\" class=\"dataframe\">\n",
       "  <thead>\n",
       "    <tr style=\"text-align: right;\">\n",
       "      <th></th>\n",
       "      <th>Employee</th>\n",
       "      <th>Sales</th>\n",
       "      <th>Quarter</th>\n",
       "      <th>Country</th>\n",
       "      <th>Import</th>\n",
       "      <th>Export</th>\n",
       "    </tr>\n",
       "  </thead>\n",
       "  <tbody>\n",
       "    <tr>\n",
       "      <th>0</th>\n",
       "      <td>Nan</td>\n",
       "      <td>1000</td>\n",
       "      <td>1</td>\n",
       "      <td>USA</td>\n",
       "      <td>880</td>\n",
       "      <td>1200.0</td>\n",
       "    </tr>\n",
       "    <tr>\n",
       "      <th>1</th>\n",
       "      <td>Kobkiat</td>\n",
       "      <td>300</td>\n",
       "      <td>1</td>\n",
       "      <td>Japan</td>\n",
       "      <td>180</td>\n",
       "      <td>360.0</td>\n",
       "    </tr>\n",
       "    <tr>\n",
       "      <th>2</th>\n",
       "      <td>Tina</td>\n",
       "      <td>400</td>\n",
       "      <td>1</td>\n",
       "      <td>Thailand</td>\n",
       "      <td>280</td>\n",
       "      <td>480.0</td>\n",
       "    </tr>\n",
       "    <tr>\n",
       "      <th>3</th>\n",
       "      <td>Maria</td>\n",
       "      <td>500</td>\n",
       "      <td>1</td>\n",
       "      <td>UK</td>\n",
       "      <td>380</td>\n",
       "      <td>600.0</td>\n",
       "    </tr>\n",
       "    <tr>\n",
       "      <th>4</th>\n",
       "      <td>Bill</td>\n",
       "      <td>800</td>\n",
       "      <td>1</td>\n",
       "      <td>USA</td>\n",
       "      <td>680</td>\n",
       "      <td>960.0</td>\n",
       "    </tr>\n",
       "    <tr>\n",
       "      <th>5</th>\n",
       "      <td>Nan</td>\n",
       "      <td>1000</td>\n",
       "      <td>2</td>\n",
       "      <td>USA</td>\n",
       "      <td>880</td>\n",
       "      <td>1200.0</td>\n",
       "    </tr>\n",
       "    <tr>\n",
       "      <th>6</th>\n",
       "      <td>Kobkiat</td>\n",
       "      <td>500</td>\n",
       "      <td>2</td>\n",
       "      <td>USA</td>\n",
       "      <td>380</td>\n",
       "      <td>600.0</td>\n",
       "    </tr>\n",
       "    <tr>\n",
       "      <th>7</th>\n",
       "      <td>Tina</td>\n",
       "      <td>700</td>\n",
       "      <td>2</td>\n",
       "      <td>Thailand</td>\n",
       "      <td>580</td>\n",
       "      <td>840.0</td>\n",
       "    </tr>\n",
       "    <tr>\n",
       "      <th>8</th>\n",
       "      <td>Maria</td>\n",
       "      <td>50</td>\n",
       "      <td>2</td>\n",
       "      <td>Japan</td>\n",
       "      <td>-70</td>\n",
       "      <td>60.0</td>\n",
       "    </tr>\n",
       "    <tr>\n",
       "      <th>9</th>\n",
       "      <td>Bill</td>\n",
       "      <td>60</td>\n",
       "      <td>2</td>\n",
       "      <td>Thailand</td>\n",
       "      <td>-60</td>\n",
       "      <td>72.0</td>\n",
       "    </tr>\n",
       "    <tr>\n",
       "      <th>10</th>\n",
       "      <td>Nan</td>\n",
       "      <td>1000</td>\n",
       "      <td>3</td>\n",
       "      <td>Thailand</td>\n",
       "      <td>880</td>\n",
       "      <td>1200.0</td>\n",
       "    </tr>\n",
       "    <tr>\n",
       "      <th>11</th>\n",
       "      <td>Kobkiat</td>\n",
       "      <td>900</td>\n",
       "      <td>3</td>\n",
       "      <td>UK</td>\n",
       "      <td>780</td>\n",
       "      <td>1080.0</td>\n",
       "    </tr>\n",
       "    <tr>\n",
       "      <th>12</th>\n",
       "      <td>Tina</td>\n",
       "      <td>750</td>\n",
       "      <td>3</td>\n",
       "      <td>Thailand</td>\n",
       "      <td>630</td>\n",
       "      <td>900.0</td>\n",
       "    </tr>\n",
       "    <tr>\n",
       "      <th>13</th>\n",
       "      <td>Maria</td>\n",
       "      <td>200</td>\n",
       "      <td>3</td>\n",
       "      <td>Japan</td>\n",
       "      <td>80</td>\n",
       "      <td>240.0</td>\n",
       "    </tr>\n",
       "    <tr>\n",
       "      <th>14</th>\n",
       "      <td>Bill</td>\n",
       "      <td>300</td>\n",
       "      <td>3</td>\n",
       "      <td>USA</td>\n",
       "      <td>180</td>\n",
       "      <td>360.0</td>\n",
       "    </tr>\n",
       "    <tr>\n",
       "      <th>15</th>\n",
       "      <td>Nan</td>\n",
       "      <td>1000</td>\n",
       "      <td>4</td>\n",
       "      <td>USA</td>\n",
       "      <td>880</td>\n",
       "      <td>1200.0</td>\n",
       "    </tr>\n",
       "    <tr>\n",
       "      <th>16</th>\n",
       "      <td>Kobkiat</td>\n",
       "      <td>900</td>\n",
       "      <td>4</td>\n",
       "      <td>UK</td>\n",
       "      <td>780</td>\n",
       "      <td>1080.0</td>\n",
       "    </tr>\n",
       "    <tr>\n",
       "      <th>17</th>\n",
       "      <td>Tina</td>\n",
       "      <td>250</td>\n",
       "      <td>4</td>\n",
       "      <td>Thailand</td>\n",
       "      <td>130</td>\n",
       "      <td>300.0</td>\n",
       "    </tr>\n",
       "    <tr>\n",
       "      <th>18</th>\n",
       "      <td>Maria</td>\n",
       "      <td>750</td>\n",
       "      <td>4</td>\n",
       "      <td>Japan</td>\n",
       "      <td>630</td>\n",
       "      <td>900.0</td>\n",
       "    </tr>\n",
       "    <tr>\n",
       "      <th>19</th>\n",
       "      <td>Bill</td>\n",
       "      <td>50</td>\n",
       "      <td>4</td>\n",
       "      <td>Japan</td>\n",
       "      <td>-70</td>\n",
       "      <td>60.0</td>\n",
       "    </tr>\n",
       "  </tbody>\n",
       "</table>\n",
       "</div>"
      ],
      "text/plain": [
       "   Employee  Sales  Quarter   Country  Import  Export\n",
       "0       Nan   1000        1       USA     880  1200.0\n",
       "1   Kobkiat    300        1     Japan     180   360.0\n",
       "2      Tina    400        1  Thailand     280   480.0\n",
       "3     Maria    500        1        UK     380   600.0\n",
       "4      Bill    800        1       USA     680   960.0\n",
       "5       Nan   1000        2       USA     880  1200.0\n",
       "6   Kobkiat    500        2       USA     380   600.0\n",
       "7      Tina    700        2  Thailand     580   840.0\n",
       "8     Maria     50        2     Japan     -70    60.0\n",
       "9      Bill     60        2  Thailand     -60    72.0\n",
       "10      Nan   1000        3  Thailand     880  1200.0\n",
       "11  Kobkiat    900        3        UK     780  1080.0\n",
       "12     Tina    750        3  Thailand     630   900.0\n",
       "13    Maria    200        3     Japan      80   240.0\n",
       "14     Bill    300        3       USA     180   360.0\n",
       "15      Nan   1000        4       USA     880  1200.0\n",
       "16  Kobkiat    900        4        UK     780  1080.0\n",
       "17     Tina    250        4  Thailand     130   300.0\n",
       "18    Maria    750        4     Japan     630   900.0\n",
       "19     Bill     50        4     Japan     -70    60.0"
      ]
     },
     "execution_count": 179,
     "metadata": {},
     "output_type": "execute_result"
    }
   ],
   "source": [
    "df = pd.read_csv('pivot_table.csv')\n",
    "df"
   ]
  },
  {
   "cell_type": "code",
   "execution_count": 180,
   "metadata": {},
   "outputs": [
    {
     "data": {
      "text/plain": [
       "<matplotlib.axes._subplots.AxesSubplot at 0x26b32be3f48>"
      ]
     },
     "execution_count": 180,
     "metadata": {},
     "output_type": "execute_result"
    },
    {
     "data": {
      "image/png": "[encoded data removed]",
      "text/plain": [
       "<Figure size 432x288 with 1 Axes>"
      ]
     },
     "metadata": {
      "needs_background": "light"
     },
     "output_type": "display_data"
    }
   ],
   "source": [
    "plt.rc('font', family='tahoma')\n",
    "pvt = df.pivot_table(index='Employee',aggfunc='sum',values=['Sales'])\n",
    "pvt.sort_values(by='Sales',ascending=True).plot.bar()"
   ]
  },
  {
   "cell_type": "markdown",
   "metadata": {},
   "source": [
    "# Workshop13 : ยอดขายรวมของแต่ละประเทศ"
   ]
  },
  {
   "cell_type": "code",
   "execution_count": 181,
   "metadata": {},
   "outputs": [
    {
     "data": {
      "text/html": [
       "<div>\n",
       "<style scoped>\n",
       "    .dataframe tbody tr th:only-of-type {\n",
       "        vertical-align: middle;\n",
       "    }\n",
       "\n",
       "    .dataframe tbody tr th {\n",
       "        vertical-align: top;\n",
       "    }\n",
       "\n",
       "    .dataframe thead th {\n",
       "        text-align: right;\n",
       "    }\n",
       "</style>\n",
       "<table border=\"1\" class=\"dataframe\">\n",
       "  <thead>\n",
       "    <tr style=\"text-align: right;\">\n",
       "      <th></th>\n",
       "      <th>Sales</th>\n",
       "    </tr>\n",
       "    <tr>\n",
       "      <th>Country</th>\n",
       "      <th></th>\n",
       "    </tr>\n",
       "  </thead>\n",
       "  <tbody>\n",
       "    <tr>\n",
       "      <th>Japan</th>\n",
       "      <td>1350</td>\n",
       "    </tr>\n",
       "    <tr>\n",
       "      <th>UK</th>\n",
       "      <td>2300</td>\n",
       "    </tr>\n",
       "    <tr>\n",
       "      <th>Thailand</th>\n",
       "      <td>3160</td>\n",
       "    </tr>\n",
       "    <tr>\n",
       "      <th>USA</th>\n",
       "      <td>4600</td>\n",
       "    </tr>\n",
       "  </tbody>\n",
       "</table>\n",
       "</div>"
      ],
      "text/plain": [
       "          Sales\n",
       "Country        \n",
       "Japan      1350\n",
       "UK         2300\n",
       "Thailand   3160\n",
       "USA        4600"
      ]
     },
     "execution_count": 181,
     "metadata": {},
     "output_type": "execute_result"
    }
   ],
   "source": [
    "pvt = df.pivot_table(index=['Country'],aggfunc='sum',values=['Sales']).sort_values(by=['Sales'],ascending=True)\n",
    "pvt"
   ]
  },
  {
   "cell_type": "code",
   "execution_count": 182,
   "metadata": {},
   "outputs": [
    {
     "data": {
      "text/plain": [
       "<matplotlib.axes._subplots.AxesSubplot at 0x26b32c45048>"
      ]
     },
     "execution_count": 182,
     "metadata": {},
     "output_type": "execute_result"
    },
    {
     "data": {
      "image/png": "[encoded data removed]",
      "text/plain": [
       "<Figure size 432x288 with 1 Axes>"
      ]
     },
     "metadata": {
      "needs_background": "light"
     },
     "output_type": "display_data"
    }
   ],
   "source": [
    "pvt.plot.bar()"
   ]
  },
  {
   "cell_type": "markdown",
   "metadata": {},
   "source": [
    "# Workshop 14: ยอดขายของแต่ละประเทศ แต่ละไตรมาส 2 มิติ"
   ]
  },
  {
   "cell_type": "code",
   "execution_count": 183,
   "metadata": {},
   "outputs": [
    {
     "data": {
      "text/plain": [
       "<matplotlib.axes._subplots.AxesSubplot at 0x26b32ccb408>"
      ]
     },
     "execution_count": 183,
     "metadata": {},
     "output_type": "execute_result"
    },
    {
     "data": {
      "image/png": "[encoded data removed]",
      "text/plain": [
       "<Figure size 432x288 with 1 Axes>"
      ]
     },
     "metadata": {
      "needs_background": "light"
     },
     "output_type": "display_data"
    }
   ],
   "source": [
    "import pandas as pd\n",
    "df = pd.read_csv('pivot_table.csv')\n",
    "pvt = df.pivot_table(index=['Country','Quarter'], values=['Sales'],aggfunc='sum')\n",
    "pvt.plot.bar()"
   ]
  },
  {
   "cell_type": "code",
   "execution_count": 184,
   "metadata": {},
   "outputs": [
    {
     "data": {
      "text/html": [
       "<div>\n",
       "<style scoped>\n",
       "    .dataframe tbody tr th:only-of-type {\n",
       "        vertical-align: middle;\n",
       "    }\n",
       "\n",
       "    .dataframe tbody tr th {\n",
       "        vertical-align: top;\n",
       "    }\n",
       "\n",
       "    .dataframe thead tr th {\n",
       "        text-align: left;\n",
       "    }\n",
       "\n",
       "    .dataframe thead tr:last-of-type th {\n",
       "        text-align: right;\n",
       "    }\n",
       "</style>\n",
       "<table border=\"1\" class=\"dataframe\">\n",
       "  <thead>\n",
       "    <tr>\n",
       "      <th></th>\n",
       "      <th colspan=\"5\" halign=\"left\">Sales</th>\n",
       "    </tr>\n",
       "    <tr>\n",
       "      <th>Quarter</th>\n",
       "      <th>1</th>\n",
       "      <th>2</th>\n",
       "      <th>3</th>\n",
       "      <th>4</th>\n",
       "      <th>All</th>\n",
       "    </tr>\n",
       "    <tr>\n",
       "      <th>Country</th>\n",
       "      <th></th>\n",
       "      <th></th>\n",
       "      <th></th>\n",
       "      <th></th>\n",
       "      <th></th>\n",
       "    </tr>\n",
       "  </thead>\n",
       "  <tbody>\n",
       "    <tr>\n",
       "      <th>Japan</th>\n",
       "      <td>300</td>\n",
       "      <td>50</td>\n",
       "      <td>200</td>\n",
       "      <td>800</td>\n",
       "      <td>1350</td>\n",
       "    </tr>\n",
       "    <tr>\n",
       "      <th>Thailand</th>\n",
       "      <td>400</td>\n",
       "      <td>760</td>\n",
       "      <td>1750</td>\n",
       "      <td>250</td>\n",
       "      <td>3160</td>\n",
       "    </tr>\n",
       "    <tr>\n",
       "      <th>UK</th>\n",
       "      <td>500</td>\n",
       "      <td>0</td>\n",
       "      <td>900</td>\n",
       "      <td>900</td>\n",
       "      <td>2300</td>\n",
       "    </tr>\n",
       "    <tr>\n",
       "      <th>USA</th>\n",
       "      <td>1800</td>\n",
       "      <td>1500</td>\n",
       "      <td>300</td>\n",
       "      <td>1000</td>\n",
       "      <td>4600</td>\n",
       "    </tr>\n",
       "    <tr>\n",
       "      <th>All</th>\n",
       "      <td>3000</td>\n",
       "      <td>2310</td>\n",
       "      <td>3150</td>\n",
       "      <td>2950</td>\n",
       "      <td>11410</td>\n",
       "    </tr>\n",
       "  </tbody>\n",
       "</table>\n",
       "</div>"
      ],
      "text/plain": [
       "         Sales                         \n",
       "Quarter      1     2     3     4    All\n",
       "Country                                \n",
       "Japan      300    50   200   800   1350\n",
       "Thailand   400   760  1750   250   3160\n",
       "UK         500     0   900   900   2300\n",
       "USA       1800  1500   300  1000   4600\n",
       "All       3000  2310  3150  2950  11410"
      ]
     },
     "execution_count": 184,
     "metadata": {},
     "output_type": "execute_result"
    }
   ],
   "source": [
    "pvt2 = df.pivot_table(index=['Country'],columns=['Quarter'],values=['Sales'],aggfunc='sum',margins=True,fill_value=0)\n",
    "pvt2"
   ]
  },
  {
   "cell_type": "code",
   "execution_count": 185,
   "metadata": {},
   "outputs": [
    {
     "data": {
      "text/plain": [
       "<matplotlib.axes._subplots.AxesSubplot at 0x26b32d767c8>"
      ]
     },
     "execution_count": 185,
     "metadata": {},
     "output_type": "execute_result"
    },
    {
     "data": {
      "image/png": "[encoded data removed]",
      "text/plain": [
       "<Figure size 432x288 with 1 Axes>"
      ]
     },
     "metadata": {
      "needs_background": "light"
     },
     "output_type": "display_data"
    }
   ],
   "source": [
    "pvt2 = df.pivot_table(index=['Country'],columns=['Quarter'],values=['Sales'],aggfunc='sum')\n",
    "pvt2.plot.bar()"
   ]
  },
  {
   "cell_type": "code",
   "execution_count": 189,
   "metadata": {},
   "outputs": [
    {
     "data": {
      "text/html": [
       "<div>\n",
       "<style scoped>\n",
       "    .dataframe tbody tr th:only-of-type {\n",
       "        vertical-align: middle;\n",
       "    }\n",
       "\n",
       "    .dataframe tbody tr th {\n",
       "        vertical-align: top;\n",
       "    }\n",
       "\n",
       "    .dataframe thead tr th {\n",
       "        text-align: left;\n",
       "    }\n",
       "\n",
       "    .dataframe thead tr:last-of-type th {\n",
       "        text-align: right;\n",
       "    }\n",
       "</style>\n",
       "<table border=\"1\" class=\"dataframe\">\n",
       "  <thead>\n",
       "    <tr>\n",
       "      <th></th>\n",
       "      <th colspan=\"4\" halign=\"left\">Sales</th>\n",
       "    </tr>\n",
       "    <tr>\n",
       "      <th>Country</th>\n",
       "      <th>Japan</th>\n",
       "      <th>Thailand</th>\n",
       "      <th>UK</th>\n",
       "      <th>USA</th>\n",
       "    </tr>\n",
       "    <tr>\n",
       "      <th>Quarter</th>\n",
       "      <th></th>\n",
       "      <th></th>\n",
       "      <th></th>\n",
       "      <th></th>\n",
       "    </tr>\n",
       "  </thead>\n",
       "  <tbody>\n",
       "    <tr>\n",
       "      <th>1</th>\n",
       "      <td>300</td>\n",
       "      <td>400</td>\n",
       "      <td>500</td>\n",
       "      <td>1800</td>\n",
       "    </tr>\n",
       "    <tr>\n",
       "      <th>2</th>\n",
       "      <td>50</td>\n",
       "      <td>760</td>\n",
       "      <td>0</td>\n",
       "      <td>1500</td>\n",
       "    </tr>\n",
       "    <tr>\n",
       "      <th>3</th>\n",
       "      <td>200</td>\n",
       "      <td>1750</td>\n",
       "      <td>900</td>\n",
       "      <td>300</td>\n",
       "    </tr>\n",
       "    <tr>\n",
       "      <th>4</th>\n",
       "      <td>800</td>\n",
       "      <td>250</td>\n",
       "      <td>900</td>\n",
       "      <td>1000</td>\n",
       "    </tr>\n",
       "  </tbody>\n",
       "</table>\n",
       "</div>"
      ],
      "text/plain": [
       "        Sales                    \n",
       "Country Japan Thailand   UK   USA\n",
       "Quarter                          \n",
       "1         300      400  500  1800\n",
       "2          50      760    0  1500\n",
       "3         200     1750  900   300\n",
       "4         800      250  900  1000"
      ]
     },
     "execution_count": 189,
     "metadata": {},
     "output_type": "execute_result"
    }
   ],
   "source": [
    "pvt4 = df.pivot_table(index=['Quarter'],columns=['Country'],values=['Sales'],aggfunc='sum',fill_value=0)\n",
    "pvt4"
   ]
  },
  {
   "cell_type": "code",
   "execution_count": 187,
   "metadata": {},
   "outputs": [
    {
     "data": {
      "text/plain": [
       "<matplotlib.axes._subplots.AxesSubplot at 0x26b32e1cf08>"
      ]
     },
     "execution_count": 187,
     "metadata": {},
     "output_type": "execute_result"
    },
    {
     "data": {
      "image/png": "[encoded data removed]",
      "text/plain": [
       "<Figure size 432x288 with 1 Axes>"
      ]
     },
     "metadata": {
      "needs_background": "light"
     },
     "output_type": "display_data"
    }
   ],
   "source": [
    "pvt4.plot.bar()"
   ]
  },
  {
   "cell_type": "markdown",
   "metadata": {},
   "source": [
    "# Workshop15 : ยอดขายรวมแต่ละคนในแต่ละประเทศ"
   ]
  },
  {
   "cell_type": "code",
   "execution_count": 195,
   "metadata": {},
   "outputs": [],
   "source": [
    "import pandas as pd\n",
    "import matplotlib.pyplot as plt\n",
    "import numpy as np\n",
    "df = pd.read_csv(\"pivot_table.csv\")\n",
    "pvt = df.pivot_table(index=['Country'],columns=['Employee'],values=['Sales'],aggfunc='sum',fill_value=0)"
   ]
  },
  {
   "cell_type": "code",
   "execution_count": 197,
   "metadata": {},
   "outputs": [
    {
     "data": {
      "text/plain": [
       "<matplotlib.axes._subplots.AxesSubplot at 0x26b32ead388>"
      ]
     },
     "execution_count": 197,
     "metadata": {},
     "output_type": "execute_result"
    },
    {
     "data": {
      "image/png": "[encoded data removed]",
      "text/plain": [
       "<Figure size 432x288 with 1 Axes>"
      ]
     },
     "metadata": {
      "needs_background": "light"
     },
     "output_type": "display_data"
    }
   ],
   "source": [
    "pvt.plot.bar() "
   ]
  },
  {
   "cell_type": "code",
   "execution_count": 202,
   "metadata": {},
   "outputs": [],
   "source": [
    "\n",
    "pvt2 = df.pivot_table(index=['Employee'],columns =['Country'],values=['Sales'],aggfunc='sum',fill_value=0)"
   ]
  },
  {
   "cell_type": "code",
   "execution_count": 204,
   "metadata": {},
   "outputs": [
    {
     "data": {
      "text/plain": [
       "<matplotlib.axes._subplots.AxesSubplot at 0x26b32f623c8>"
      ]
     },
     "execution_count": 204,
     "metadata": {},
     "output_type": "execute_result"
    },
    {
     "data": {
      "image/png": "[encoded data removed]",
      "text/plain": [
       "<Figure size 432x288 with 1 Axes>"
      ]
     },
     "metadata": {
      "needs_background": "light"
     },
     "output_type": "display_data"
    }
   ],
   "source": [
    "pvt2.plot.bar()"
   ]
  },
  {
   "cell_type": "markdown",
   "metadata": {},
   "source": [
    "# Workshop16 ยอดขายรวมแต่ละคนในแต่ละไตรมาส"
   ]
  },
  {
   "cell_type": "code",
   "execution_count": 207,
   "metadata": {},
   "outputs": [
    {
     "data": {
      "text/plain": [
       "<matplotlib.axes._subplots.AxesSubplot at 0x26b33033508>"
      ]
     },
     "execution_count": 207,
     "metadata": {},
     "output_type": "execute_result"
    },
    {
     "data": {
      "image/png": "[encoded data removed]",
      "text/plain": [
       "<Figure size 432x288 with 1 Axes>"
      ]
     },
     "metadata": {
      "needs_background": "light"
     },
     "output_type": "display_data"
    }
   ],
   "source": [
    "import pandas as pd\n",
    "import numpy as np\n",
    "import matplotlib.pyplot as plt\n",
    "df = pd.read_csv('pivot_table.csv')\n",
    "pvt = df.pivot_table(index=['Employee'],columns=['Quarter'],values=['Sales'],aggfunc='sum')\n",
    "pvt.plot.bar()"
   ]
  },
  {
   "cell_type": "code",
   "execution_count": 212,
   "metadata": {},
   "outputs": [
    {
     "data": {
      "text/plain": [
       "<matplotlib.axes._subplots.AxesSubplot at 0x26b330dd948>"
      ]
     },
     "execution_count": 212,
     "metadata": {},
     "output_type": "execute_result"
    },
    {
     "data": {
      "image/png": "[encoded data removed]",
      "text/plain": [
       "<Figure size 432x288 with 1 Axes>"
      ]
     },
     "metadata": {
      "needs_background": "light"
     },
     "output_type": "display_data"
    }
   ],
   "source": [
    "pvt=  df.pivot_table(index=['Country'],columns =['Quarter'],values=['Sales'],aggfunc='count',fill_value=0)\n",
    "pvt.plot.bar()"
   ]
  },
  {
   "cell_type": "markdown",
   "metadata": {},
   "source": [
    "# Workshop 16: ยอดขายรวมแต่ละคนในแต่ละไตรมาส"
   ]
  },
  {
   "cell_type": "code",
   "execution_count": 216,
   "metadata": {},
   "outputs": [
    {
     "data": {
      "text/plain": [
       "<matplotlib.axes._subplots.AxesSubplot at 0x26b331823c8>"
      ]
     },
     "execution_count": 216,
     "metadata": {},
     "output_type": "execute_result"
    },
    {
     "data": {
      "image/png": "[encoded data removed]",
      "text/plain": [
       "<Figure size 432x288 with 1 Axes>"
      ]
     },
     "metadata": {
      "needs_background": "light"
     },
     "output_type": "display_data"
    }
   ],
   "source": [
    "pvt = df.pivot_table(index=['Employee'],columns = ['Quarter'],aggfunc='sum',values=['Sales'])\n",
    "pvt.plot.bar()"
   ]
  },
  {
   "cell_type": "markdown",
   "metadata": {},
   "source": [
    "# Workshop 17: การกรอง Pivot Table"
   ]
  },
  {
   "cell_type": "code",
   "execution_count": 217,
   "metadata": {},
   "outputs": [],
   "source": [
    "import pandas as pd\n",
    "df = pd.read_csv('pivot_table.csv')"
   ]
  },
  {
   "cell_type": "code",
   "execution_count": 222,
   "metadata": {},
   "outputs": [
    {
     "data": {
      "text/html": [
       "<div>\n",
       "<style scoped>\n",
       "    .dataframe tbody tr th:only-of-type {\n",
       "        vertical-align: middle;\n",
       "    }\n",
       "\n",
       "    .dataframe tbody tr th {\n",
       "        vertical-align: top;\n",
       "    }\n",
       "\n",
       "    .dataframe thead tr th {\n",
       "        text-align: left;\n",
       "    }\n",
       "\n",
       "    .dataframe thead tr:last-of-type th {\n",
       "        text-align: right;\n",
       "    }\n",
       "</style>\n",
       "<table border=\"1\" class=\"dataframe\">\n",
       "  <thead>\n",
       "    <tr>\n",
       "      <th></th>\n",
       "      <th>Sales</th>\n",
       "    </tr>\n",
       "    <tr>\n",
       "      <th>Quarter</th>\n",
       "      <th>3</th>\n",
       "    </tr>\n",
       "    <tr>\n",
       "      <th>Country</th>\n",
       "      <th></th>\n",
       "    </tr>\n",
       "  </thead>\n",
       "  <tbody>\n",
       "    <tr>\n",
       "      <th>Japan</th>\n",
       "      <td>200</td>\n",
       "    </tr>\n",
       "    <tr>\n",
       "      <th>Thailand</th>\n",
       "      <td>1750</td>\n",
       "    </tr>\n",
       "    <tr>\n",
       "      <th>UK</th>\n",
       "      <td>900</td>\n",
       "    </tr>\n",
       "    <tr>\n",
       "      <th>USA</th>\n",
       "      <td>300</td>\n",
       "    </tr>\n",
       "  </tbody>\n",
       "</table>\n",
       "</div>"
      ],
      "text/plain": [
       "         Sales\n",
       "Quarter      3\n",
       "Country       \n",
       "Japan      200\n",
       "Thailand  1750\n",
       "UK         900\n",
       "USA        300"
      ]
     },
     "execution_count": 222,
     "metadata": {},
     "output_type": "execute_result"
    }
   ],
   "source": [
    "df[df['Quarter']==3].pivot_table(index=['Country'],columns=['Quarter'],aggfunc='sum',values=['Sales'])"
   ]
  },
  {
   "cell_type": "code",
   "execution_count": 224,
   "metadata": {},
   "outputs": [
    {
     "data": {
      "text/html": [
       "<div>\n",
       "<style scoped>\n",
       "    .dataframe tbody tr th:only-of-type {\n",
       "        vertical-align: middle;\n",
       "    }\n",
       "\n",
       "    .dataframe tbody tr th {\n",
       "        vertical-align: top;\n",
       "    }\n",
       "\n",
       "    .dataframe thead tr th {\n",
       "        text-align: left;\n",
       "    }\n",
       "\n",
       "    .dataframe thead tr:last-of-type th {\n",
       "        text-align: right;\n",
       "    }\n",
       "</style>\n",
       "<table border=\"1\" class=\"dataframe\">\n",
       "  <thead>\n",
       "    <tr>\n",
       "      <th></th>\n",
       "      <th colspan=\"2\" halign=\"left\">Sales</th>\n",
       "    </tr>\n",
       "    <tr>\n",
       "      <th>Quarter</th>\n",
       "      <th>1</th>\n",
       "      <th>3</th>\n",
       "    </tr>\n",
       "    <tr>\n",
       "      <th>Country</th>\n",
       "      <th></th>\n",
       "      <th></th>\n",
       "    </tr>\n",
       "  </thead>\n",
       "  <tbody>\n",
       "    <tr>\n",
       "      <th>Japan</th>\n",
       "      <td>300</td>\n",
       "      <td>200</td>\n",
       "    </tr>\n",
       "    <tr>\n",
       "      <th>Thailand</th>\n",
       "      <td>400</td>\n",
       "      <td>1750</td>\n",
       "    </tr>\n",
       "    <tr>\n",
       "      <th>UK</th>\n",
       "      <td>500</td>\n",
       "      <td>900</td>\n",
       "    </tr>\n",
       "    <tr>\n",
       "      <th>USA</th>\n",
       "      <td>1800</td>\n",
       "      <td>300</td>\n",
       "    </tr>\n",
       "  </tbody>\n",
       "</table>\n",
       "</div>"
      ],
      "text/plain": [
       "         Sales      \n",
       "Quarter      1     3\n",
       "Country             \n",
       "Japan      300   200\n",
       "Thailand   400  1750\n",
       "UK         500   900\n",
       "USA       1800   300"
      ]
     },
     "execution_count": 224,
     "metadata": {},
     "output_type": "execute_result"
    }
   ],
   "source": [
    "df[(df['Quarter']==3)|(df['Quarter']==1)].pivot_table(index='Country',columns='Quarter',aggfunc='sum',values=['Sales'])"
   ]
  },
  {
   "cell_type": "code",
   "execution_count": null,
   "metadata": {},
   "outputs": [],
   "source": []
  }
 ],
 "metadata": {
  "kernelspec": {
   "display_name": "Python 3",
   "language": "python",
   "name": "python3"
  },
  "language_info": {
   "codemirror_mode": {
    "name": "ipython",
    "version": 3
   },
   "file_extension": ".py",
   "mimetype": "text/x-python",
   "name": "python",
   "nbconvert_exporter": "python",
   "pygments_lexer": "ipython3",
   "version": "3.7.6"
  }
 },
 "nbformat": 4,
 "nbformat_minor": 4
}
