{
 "cells": [
  {
   "cell_type": "markdown",
   "metadata": {},
   "source": [
    "# การ Evaluate Machine Learning Model\n",
    "- Regression : ใช้ r2, mse, RMSE , MSE, MAE\n",
    "- Classication: ใช้ Confusion Matrix\n",
    "    - TP, TN, FP, FN ต้องเข้าใจ \n",
    "    - TP: Actual Positive, Model ก็ทำนาย Positive\n",
    "    - TN: Actual Negative, Model ก็ทำนาย Negative\n",
    "    - FP: Actual Negative, Model ดันไปทำนาย Positive( Positive ไม่จริง)\n",
    "    - FN: Actual Positive, Model ดันไปทำนาย Negative( Negative ไม่จริง)\n",
    "- ใน Confusion Matrix\n",
    "    - แกน Y(Rows): Actual\n",
    "    - แกน X(Columns): Prediction\n",
    "    - ลากแกนตั้ง: บอก Precision : วัดว่ามันสามารถทำนายถูกมากขนาดไหนสำหรับ positive and negative ( ความแม่นยำในการทำนายผล) เชนทำนายว่าเป็นของดีถูกต้องกี่ %\n",
    "        - Precision_p: TP/(TP+FP)\n",
    "        - Precision_n: TN/(TN + FN)\n",
    "    - ลากแกนนอน : บอก Recall : สนใจผลลัพธ์เทียบกับที่เป็นของจริง (Actual) ทำนองว่า ของจริงมี 5 ชิ้นระบบทำนายถูกว่าเป็นของดีกี่ % หรือทำนายถูกต้องว่าเป็นของเสียกี่ % \n",
    "        - Recall_p: TP/(TP + FN)\n",
    "        - Recall_n: TN/(TN + FP) \n",
    "    - F1 Score: (2xPxR)/(P+R) : แสดงประสิทธิภาพโดยการนำ Precision and Recall มาคำนวณหาค่าเฉลี่ย ในทางเทคนิคเรียกว่า Harmonic Mean ค่่าสูงแปลว่าดี\n",
    "    - Support คือ จำนวน samples\n",
    "    - Accuracy_score บอกความแม่นยำ: (TP + TN)/(TP+ TN + FP + FN) \n",
    "- ในการสร้าง Confusion Matrix \n",
    "    - ใช้ seaborn.heatmap\n",
    "    - ใช้ scikitplot as skplot\n",
    "        skplot.metricsplot_confusion_matrix(y_true,y_pred,normalize = False)\n",
    "        plt.show()\n",
    "       \n",
    "    "
   ]
  },
  {
   "cell_type": "code",
   "execution_count": 14,
   "metadata": {},
   "outputs": [
    {
     "name": "stdout",
     "output_type": "stream",
     "text": [
      "              precision    recall  f1-score   support\n",
      "\n",
      "         bad       0.80      0.67      0.73         6\n",
      "        good       0.60      0.75      0.67         4\n",
      "\n",
      "    accuracy                           0.70        10\n",
      "   macro avg       0.70      0.71      0.70        10\n",
      "weighted avg       0.72      0.70      0.70        10\n",
      "\n",
      "======\n",
      "Confusion Matrix\n",
      "[[4 2]\n",
      " [1 3]]\n",
      "======\n",
      "accuracy_score:  0.7\n",
      "precision_p:  0.6\n",
      "precision_n:  0.8\n",
      "recall_p:  0.75\n",
      "recall_n:  0.6666666666666666\n",
      "Accuracy:  0.7\n"
     ]
    }
   ],
   "source": [
    "# Create Model...\n",
    "# Model.fit(x_train,y_train)\n",
    "# model.score(x_train,y_train)\n",
    "# y_pred = model.predict(x_test)\n",
    "\n",
    "y_test = [0,1,0,1,0,0,1,0,0,1] # ของจริง\n",
    "y_pred = [0,1,0,1,0,1,1,0,1,0] # ของทำนายโดยโมเดล\n",
    "\n",
    "from sklearn.metrics import classification_report\n",
    "from sklearn.metrics import confusion_matrix\n",
    "from sklearn.metrics import accuracy_score\n",
    "import seaborn as sns\n",
    "y_target = ['bad','good']\n",
    "print(classification_report(y_test,y_pred,target_names=y_target))\n",
    "print('======')\n",
    "cm = confusion_matrix(y_test,y_pred)\n",
    "print('Confusion Matrix')\n",
    "print(cm)\n",
    "print('======')\n",
    "print('accuracy_score: ',accuracy_score(y_test,y_pred))\n",
    "TN = cm[0,0]\n",
    "TP = cm[1,1]\n",
    "FP = cm[0,1]\n",
    "FN = cm[1,0]\n",
    "\n",
    "precision_p = TP/(TP+FP)\n",
    "print('precision_p: ',precision_p)\n",
    "precision_n = TN/(TN + FN)\n",
    "print('precision_n: ',precision_n)\n",
    "recall_p = TP/(TP+FN)\n",
    "print('recall_p: ',recall_p)\n",
    "recall_n = TN/(TN + FP)\n",
    "print('recall_n: ',recall_n)\n",
    "accuracy = (TP+TN)/(TP+TN+FP+FN)\n",
    "print('Accuracy: ',accuracy)"
   ]
  },
  {
   "cell_type": "markdown",
   "metadata": {},
   "source": [
    "# Workshop2: Confusion Matrix แบบกราฟฟิก"
   ]
  },
  {
   "cell_type": "code",
   "execution_count": 36,
   "metadata": {},
   "outputs": [
    {
     "data": {
      "image/png": "[encoded data removed]",
      "text/plain": [
       "<Figure size 360x288 with 2 Axes>"
      ]
     },
     "metadata": {
      "needs_background": "light"
     },
     "output_type": "display_data"
    }
   ],
   "source": [
    "import matplotlib.pyplot as plt\n",
    "import seaborn as sns\n",
    "y_targets=['bad','good']\n",
    "cm = confusion_matrix(y_test,y_pred)\n",
    "ax = plt.subplot() \n",
    "plt.rcParams.update({'font.size':14})\n",
    "plt.rcParams['figure.figsize']=5,4\n",
    "sns.heatmap(cm,annot=True,cmap='YlGnBu')\n",
    "ax.set_xlabel('Prediction')\n",
    "ax.set_ylabel('Actual')\n",
    "ax.set_title('Confusion_Matrix')\n",
    "ax.xaxis.set_ticklabels(y_targets)\n",
    "ax.yaxis.set_ticklabels(y_targets)\n",
    "plt.show()\n"
   ]
  },
  {
   "cell_type": "markdown",
   "metadata": {},
   "source": [
    "# Workshop 3 : Confusion Matrix 3 Labels"
   ]
  },
  {
   "cell_type": "code",
   "execution_count": 49,
   "metadata": {},
   "outputs": [
    {
     "name": "stdout",
     "output_type": "stream",
     "text": [
      "Accuracy_score 0.7333333333333333\n",
      "Classification_report\n",
      "              precision    recall  f1-score   support\n",
      "\n",
      "         Cat       0.80      0.67      0.73         6\n",
      "         Dog       0.50      0.75      0.60         4\n",
      "        Bird       1.00      0.80      0.89         5\n",
      "\n",
      "    accuracy                           0.73        15\n",
      "   macro avg       0.77      0.74      0.74        15\n",
      "weighted avg       0.79      0.73      0.75        15\n",
      "\n"
     ]
    },
    {
     "data": {
      "image/png": "[encoded data removed]",
      "text/plain": [
       "<Figure size 432x288 with 2 Axes>"
      ]
     },
     "metadata": {
      "needs_background": "light"
     },
     "output_type": "display_data"
    }
   ],
   "source": [
    "# Create Model\n",
    "# model.fit(x_train,y_train)\n",
    "# model.score(x_train,y_train)\n",
    "# y_pred = model.predict(x_test)\n",
    "# 0= cat, 1= dog, 2= bird\n",
    "from sklearn.metrics import confusion_matrix\n",
    "from sklearn.metrics import classification_report\n",
    "from sklearn.metrics import accuracy_score\n",
    "import seaborn as sns\n",
    "import matplotlib.pyplot as plt\n",
    "%matplotlib inline\n",
    "y_targets = ['Cat','Dog','Bird']\n",
    "y_test = [0,1,0,1,0,0,1,0,0,1,2,2,2,2,2] # label จริง\n",
    "y_pred = [0,1,0,1,0,1,1,0,1,0,2,2,2,1,2] # label ที่ทำนายจาก Model\n",
    "\n",
    "\n",
    "print('Accuracy_score',accuracy_score(y_test,y_pred))\n",
    "print('Classification_report')\n",
    "print(classification_report(y_test,y_pred,target_names = y_targets))\n",
    "cm = confusion_matrix(y_test,y_pred)\n",
    "ax = plt.subplot()\n",
    "plt.rcParams.update({'font.size':14})\n",
    "\n",
    "sns.heatmap(cm,cmap='YlGnBu',annot=True)\n",
    "ax.set_xlabel('Prediction')\n",
    "ax.set_ylabel('Actual')\n",
    "ax.set_title('Confusion Matrix CAT-DOG-BIRD')\n",
    "ax.xaxis.set_ticklabels(y_targets)\n",
    "ax.yaxis.set_ticklabels(y_targets)\n",
    "plt.show()"
   ]
  },
  {
   "cell_type": "markdown",
   "metadata": {},
   "source": [
    "- Precision\n",
    "    - TP-Cat = (4)/(4+1+0) ทำนายว่าเป็นแมว 5 แต่ถูกจริงแค่ 4 จึงมี Precision = 4/5 = 0.8\n",
    "    - TP-Dog = (3)/(3+2+1) ทำนายว่าเป็นหมา 6 แต่ถูกจริงแค่ 6 จึงมี Precision = 3/6 = 0.5\n",
    "    - TP-Bird = 4/(4+0+0) ทำนายว่าเป็นนก 4 ตัว ถูกจริง 4 จึงมี Precision = 4/4 = 1 ทายนกเก่ง\n",
    "- Recall\n",
    "    - Cat = เป็นแมวจริง 6 ตัว แต่ทายว่าเป็นแมวแค่ 4 จึงมี recall cat = 4/6\n",
    "    - Dog = เป็นหมาจริง 4 ตัวแต่ทายว่าเป็นว่า เพียง 3 จึงมี recall dog = 3/4\n",
    "    - bird = เป็นนกจริง 5 ตัว แต่ทายว่าเป็นนก 4 ตัวจึงมี recall bird = 4/5\n",
    "- F1-score Bird = 2*1*0.8/(1+0.8) = 0.89\n",
    "- แสดงว่า โมเดลนี้มีความแม่นยำในการตรวจจับนกมากที่สุด คือ 89% ประสิทธิภาพในการตรวจับหมา ต่ำสุด"
   ]
  },
  {
   "cell_type": "markdown",
   "metadata": {},
   "source": [
    "# Workshop 4: แบ่งชุดข้อมูลสำหรับ Train และ Test ใช้ข้อมูล loan lending"
   ]
  },
  {
   "cell_type": "code",
   "execution_count": 151,
   "metadata": {},
   "outputs": [
    {
     "data": {
      "text/plain": [
       "(17, 5)"
      ]
     },
     "execution_count": 151,
     "metadata": {},
     "output_type": "execute_result"
    }
   ],
   "source": [
    "import pandas as pd\n",
    "df = pd.read_csv('simple_loan.csv')\n",
    "df.shape"
   ]
  },
  {
   "cell_type": "code",
   "execution_count": 160,
   "metadata": {},
   "outputs": [
    {
     "data": {
      "text/plain": [
       "array([2, 2, 2, 2, 2, 0, 0, 0, 0, 0, 1, 1, 1, 1, 1, 1, 2])"
      ]
     },
     "execution_count": 160,
     "metadata": {},
     "output_type": "execute_result"
    }
   ],
   "source": [
    "from sklearn.preprocessing import LabelEncoder\n",
    "lb = LabelEncoder()\n",
    "age_ = lb.fit_transform(df['age'])\n",
    "# age_ = lb.inverse_transform(age_)\n",
    "age_"
   ]
  },
  {
   "cell_type": "code",
   "execution_count": 52,
   "metadata": {},
   "outputs": [
    {
     "data": {
      "text/plain": [
       "age          0\n",
       "employed     0\n",
       "own_house    0\n",
       "credit       0\n",
       "target       0\n",
       "dtype: int64"
      ]
     },
     "execution_count": 52,
     "metadata": {},
     "output_type": "execute_result"
    }
   ],
   "source": [
    "df.isnull().sum()"
   ]
  },
  {
   "cell_type": "code",
   "execution_count": 53,
   "metadata": {},
   "outputs": [
    {
     "data": {
      "text/html": [
       "<div>\n",
       "<style scoped>\n",
       "    .dataframe tbody tr th:only-of-type {\n",
       "        vertical-align: middle;\n",
       "    }\n",
       "\n",
       "    .dataframe tbody tr th {\n",
       "        vertical-align: top;\n",
       "    }\n",
       "\n",
       "    .dataframe thead th {\n",
       "        text-align: right;\n",
       "    }\n",
       "</style>\n",
       "<table border=\"1\" class=\"dataframe\">\n",
       "  <thead>\n",
       "    <tr style=\"text-align: right;\">\n",
       "      <th></th>\n",
       "      <th>age</th>\n",
       "      <th>employed</th>\n",
       "      <th>own_house</th>\n",
       "      <th>credit</th>\n",
       "      <th>target</th>\n",
       "    </tr>\n",
       "  </thead>\n",
       "  <tbody>\n",
       "    <tr>\n",
       "      <th>0</th>\n",
       "      <td>young</td>\n",
       "      <td>False</td>\n",
       "      <td>n</td>\n",
       "      <td>fair</td>\n",
       "      <td>no</td>\n",
       "    </tr>\n",
       "    <tr>\n",
       "      <th>1</th>\n",
       "      <td>young</td>\n",
       "      <td>False</td>\n",
       "      <td>n</td>\n",
       "      <td>good</td>\n",
       "      <td>no</td>\n",
       "    </tr>\n",
       "    <tr>\n",
       "      <th>2</th>\n",
       "      <td>young</td>\n",
       "      <td>True</td>\n",
       "      <td>n</td>\n",
       "      <td>good</td>\n",
       "      <td>yes</td>\n",
       "    </tr>\n",
       "    <tr>\n",
       "      <th>3</th>\n",
       "      <td>young</td>\n",
       "      <td>True</td>\n",
       "      <td>y</td>\n",
       "      <td>fair</td>\n",
       "      <td>yes</td>\n",
       "    </tr>\n",
       "    <tr>\n",
       "      <th>4</th>\n",
       "      <td>young</td>\n",
       "      <td>False</td>\n",
       "      <td>n</td>\n",
       "      <td>fair</td>\n",
       "      <td>no</td>\n",
       "    </tr>\n",
       "  </tbody>\n",
       "</table>\n",
       "</div>"
      ],
      "text/plain": [
       "     age  employed own_house credit target\n",
       "0  young     False         n   fair     no\n",
       "1  young     False         n   good     no\n",
       "2  young      True         n   good    yes\n",
       "3  young      True         y   fair    yes\n",
       "4  young     False         n   fair     no"
      ]
     },
     "execution_count": 53,
     "metadata": {},
     "output_type": "execute_result"
    }
   ],
   "source": [
    "df.head()"
   ]
  },
  {
   "cell_type": "code",
   "execution_count": 54,
   "metadata": {},
   "outputs": [
    {
     "name": "stdout",
     "output_type": "stream",
     "text": [
      "<class 'pandas.core.frame.DataFrame'>\n",
      "RangeIndex: 17 entries, 0 to 16\n",
      "Data columns (total 5 columns):\n",
      " #   Column     Non-Null Count  Dtype \n",
      "---  ------     --------------  ----- \n",
      " 0   age        17 non-null     object\n",
      " 1   employed   17 non-null     bool  \n",
      " 2   own_house  17 non-null     object\n",
      " 3   credit     17 non-null     object\n",
      " 4   target     17 non-null     object\n",
      "dtypes: bool(1), object(4)\n",
      "memory usage: 689.0+ bytes\n"
     ]
    }
   ],
   "source": [
    "df.info()"
   ]
  },
  {
   "cell_type": "code",
   "execution_count": 222,
   "metadata": {},
   "outputs": [
    {
     "name": "stdout",
     "output_type": "stream",
     "text": [
      "Classification Report\n",
      "              precision    recall  f1-score   support\n",
      "\n",
      "          no       0.00      0.00      0.00         0\n",
      "         yes       1.00      0.86      0.92         7\n",
      "\n",
      "    accuracy                           0.86         7\n",
      "   macro avg       0.50      0.43      0.46         7\n",
      "weighted avg       1.00      0.86      0.92         7\n",
      "\n",
      "======\n",
      "Confusion Matrix\n",
      "[[0 0]\n",
      " [1 6]]\n",
      "======\n",
      "Accuracy_score 0.8571428571428571\n"
     ]
    },
    {
     "name": "stderr",
     "output_type": "stream",
     "text": [
      "C:\\Users\\Asus\\anaconda3\\lib\\site-packages\\ipykernel_launcher.py:22: SettingWithCopyWarning: \n",
      "A value is trying to be set on a copy of a slice from a DataFrame.\n",
      "Try using .loc[row_indexer,col_indexer] = value instead\n",
      "\n",
      "See the caveats in the documentation: https://pandas.pydata.org/pandas-docs/stable/user_guide/indexing.html#returning-a-view-versus-a-copy\n",
      "C:\\Users\\Asus\\anaconda3\\lib\\site-packages\\sklearn\\metrics\\_classification.py:1272: UndefinedMetricWarning: Recall and F-score are ill-defined and being set to 0.0 in labels with no true samples. Use `zero_division` parameter to control this behavior.\n",
      "  _warn_prf(average, modifier, msg_start, len(result))\n"
     ]
    },
    {
     "data": {
      "image/png": "[encoded data removed]",
      "text/plain": [
       "<Figure size 432x288 with 2 Axes>"
      ]
     },
     "metadata": {},
     "output_type": "display_data"
    }
   ],
   "source": [
    "from sklearn.model_selection import train_test_split\n",
    "from sklearn.preprocessing import LabelEncoder \n",
    "from sklearn.tree import DecisionTreeClassifier\n",
    "from sklearn.metrics import classification_report\n",
    "from sklearn.metrics import confusion_matrix\n",
    "from sklearn.metrics import accuracy_score\n",
    "import seaborn as sns\n",
    "import matplotlib.pyplot as plt\n",
    "import pandas as pd\n",
    "\n",
    "# Load Data\n",
    "df = pd.read_csv('simple_loan.csv')\n",
    "\n",
    "# Seperate features and Labels\n",
    "x = df[['age','employed','own_house','credit']]\n",
    "y = df[['target']]\n",
    "\n",
    "# LabelEncoder\n",
    "def LabelEncode(dataset):\n",
    "    for column in dataset.columns:\n",
    "        lb = LabelEncoder().fit_transform(dataset[column].values)\n",
    "        dataset[column+'_lb'] = lb\n",
    "    return dataset\n",
    "x = LabelEncode(x)\n",
    "y = LabelEncode(y)\n",
    "\n",
    "x_input = x[['age_lb','employed_lb','own_house_lb','credit_lb']]\n",
    "class_names = y.target.unique()\n",
    "y = y[['target_lb']]\n",
    "y\n",
    "# Train_test_Split\n",
    "x_train,x_test,y_train,y_test = train_test_split(x_input,y,test_size=0.4)\n",
    "\n",
    "\n",
    "# Create model And Train model\n",
    "model = DecisionTreeClassifier(max_depth=3)\n",
    "model.fit(x_train,y_train)\n",
    "\n",
    "# Predict Model\n",
    "y_pred = model.predict(x_test)\n",
    "\n",
    "print('Classification Report')\n",
    "print(classification_report(y_test,y_pred,target_names=class_names))\n",
    "print('======')\n",
    "print('Confusion Matrix')\n",
    "print(confusion_matrix(y_test,y_pred))\n",
    "print('======')\n",
    "print('Accuracy_score', accuracy_score(y_test,y_pred))\n",
    "\n",
    "cm = confusion_matrix(y_test,y_pred)\n",
    "\n",
    "y_target = ['No','Yes']\n",
    "ax = plt.subplot()\n",
    "sns.heatmap(cm,cmap='YlGnBu',annot=True)\n",
    "ax.set_xlabel('Prediction')\n",
    "ax.set_ylabel('Actual')\n",
    "ax.set_title('Confusion Matrix Loan Lending')\n",
    "ax.xaxis.set_ticklabels(y_target)\n",
    "ax.yaxis.set_ticklabels(y_target)\n",
    "plt.show()"
   ]
  },
  {
   "cell_type": "code",
   "execution_count": 223,
   "metadata": {},
   "outputs": [
    {
     "name": "stdout",
     "output_type": "stream",
     "text": [
      "[1 1 1 1 1 1 1] <- (Actual or True Data)\n",
      "[1 1 1 1 0 1 1] <- Prediction\n"
     ]
    }
   ],
   "source": [
    "import numpy as np\n",
    "print(np.array(y_test).ravel(),'<- (Actual or True Data)')\n",
    "print(y_pred,'<- Prediction')"
   ]
  },
  {
   "cell_type": "code",
   "execution_count": 224,
   "metadata": {},
   "outputs": [
    {
     "name": "stdout",
     "output_type": "stream",
     "text": [
      "Index(['age', 'employed', 'own_house', 'credit'], dtype='object')\n"
     ]
    },
    {
     "data": {
      "image/png": "[encoded data removed]",
      "text/plain": [
       "<Figure size 576x648 with 1 Axes>"
      ]
     },
     "metadata": {},
     "output_type": "display_data"
    }
   ],
   "source": [
    "from sklearn import tree\n",
    "print(x.columns[0:4])\n",
    "plt.figure(figsize=(8,9))\n",
    "plt.rcParams.update({'font.size':14})\n",
    "sns.set_style('darkgrid')\n",
    "# columns=['outlook_','temp_','humidity_','windy_']\n",
    "tree.plot_tree(model,feature_names=x.columns[0:4],class_names=['No','Yes'],filled=True,impurity=True,rounded=True,proportion=False,fontsize=14);"
   ]
  },
  {
   "cell_type": "code",
   "execution_count": 225,
   "metadata": {},
   "outputs": [
    {
     "data": {
      "text/plain": [
       "array([0.        , 0.35714286, 0.        , 0.64285714])"
      ]
     },
     "execution_count": 225,
     "metadata": {},
     "output_type": "execute_result"
    }
   ],
   "source": [
    "model.feature_importances_"
   ]
  },
  {
   "cell_type": "code",
   "execution_count": 226,
   "metadata": {},
   "outputs": [],
   "source": [
    "# แปลว่า age ซึ่งเป็นตัวแรก และ Own-house ไม่ค่อยมีผลต่อการตัดสินใจของโมเดล หลักๆจะอยู่ที่ credit"
   ]
  },
  {
   "cell_type": "code",
   "execution_count": 227,
   "metadata": {},
   "outputs": [
    {
     "data": {
      "text/html": [
       "<div>\n",
       "<style scoped>\n",
       "    .dataframe tbody tr th:only-of-type {\n",
       "        vertical-align: middle;\n",
       "    }\n",
       "\n",
       "    .dataframe tbody tr th {\n",
       "        vertical-align: top;\n",
       "    }\n",
       "\n",
       "    .dataframe thead th {\n",
       "        text-align: right;\n",
       "    }\n",
       "</style>\n",
       "<table border=\"1\" class=\"dataframe\">\n",
       "  <thead>\n",
       "    <tr style=\"text-align: right;\">\n",
       "      <th></th>\n",
       "      <th>age</th>\n",
       "      <th>employed</th>\n",
       "      <th>own_house</th>\n",
       "      <th>credit</th>\n",
       "      <th>target</th>\n",
       "    </tr>\n",
       "  </thead>\n",
       "  <tbody>\n",
       "    <tr>\n",
       "      <th>0</th>\n",
       "      <td>young</td>\n",
       "      <td>False</td>\n",
       "      <td>n</td>\n",
       "      <td>fair</td>\n",
       "      <td>no</td>\n",
       "    </tr>\n",
       "    <tr>\n",
       "      <th>1</th>\n",
       "      <td>young</td>\n",
       "      <td>False</td>\n",
       "      <td>n</td>\n",
       "      <td>good</td>\n",
       "      <td>no</td>\n",
       "    </tr>\n",
       "    <tr>\n",
       "      <th>2</th>\n",
       "      <td>young</td>\n",
       "      <td>True</td>\n",
       "      <td>n</td>\n",
       "      <td>good</td>\n",
       "      <td>yes</td>\n",
       "    </tr>\n",
       "    <tr>\n",
       "      <th>3</th>\n",
       "      <td>young</td>\n",
       "      <td>True</td>\n",
       "      <td>y</td>\n",
       "      <td>fair</td>\n",
       "      <td>yes</td>\n",
       "    </tr>\n",
       "    <tr>\n",
       "      <th>4</th>\n",
       "      <td>young</td>\n",
       "      <td>False</td>\n",
       "      <td>n</td>\n",
       "      <td>fair</td>\n",
       "      <td>no</td>\n",
       "    </tr>\n",
       "    <tr>\n",
       "      <th>5</th>\n",
       "      <td>middle</td>\n",
       "      <td>False</td>\n",
       "      <td>n</td>\n",
       "      <td>fair</td>\n",
       "      <td>no</td>\n",
       "    </tr>\n",
       "    <tr>\n",
       "      <th>6</th>\n",
       "      <td>middle</td>\n",
       "      <td>False</td>\n",
       "      <td>n</td>\n",
       "      <td>good</td>\n",
       "      <td>no</td>\n",
       "    </tr>\n",
       "    <tr>\n",
       "      <th>7</th>\n",
       "      <td>middle</td>\n",
       "      <td>True</td>\n",
       "      <td>y</td>\n",
       "      <td>good</td>\n",
       "      <td>yes</td>\n",
       "    </tr>\n",
       "    <tr>\n",
       "      <th>8</th>\n",
       "      <td>middle</td>\n",
       "      <td>False</td>\n",
       "      <td>y</td>\n",
       "      <td>excellent</td>\n",
       "      <td>yes</td>\n",
       "    </tr>\n",
       "    <tr>\n",
       "      <th>9</th>\n",
       "      <td>middle</td>\n",
       "      <td>False</td>\n",
       "      <td>y</td>\n",
       "      <td>excellent</td>\n",
       "      <td>yes</td>\n",
       "    </tr>\n",
       "    <tr>\n",
       "      <th>10</th>\n",
       "      <td>old</td>\n",
       "      <td>False</td>\n",
       "      <td>y</td>\n",
       "      <td>excellent</td>\n",
       "      <td>yes</td>\n",
       "    </tr>\n",
       "    <tr>\n",
       "      <th>11</th>\n",
       "      <td>old</td>\n",
       "      <td>False</td>\n",
       "      <td>y</td>\n",
       "      <td>good</td>\n",
       "      <td>yes</td>\n",
       "    </tr>\n",
       "    <tr>\n",
       "      <th>12</th>\n",
       "      <td>old</td>\n",
       "      <td>True</td>\n",
       "      <td>n</td>\n",
       "      <td>good</td>\n",
       "      <td>yes</td>\n",
       "    </tr>\n",
       "    <tr>\n",
       "      <th>13</th>\n",
       "      <td>old</td>\n",
       "      <td>True</td>\n",
       "      <td>n</td>\n",
       "      <td>excellent</td>\n",
       "      <td>yes</td>\n",
       "    </tr>\n",
       "    <tr>\n",
       "      <th>14</th>\n",
       "      <td>old</td>\n",
       "      <td>False</td>\n",
       "      <td>n</td>\n",
       "      <td>fair</td>\n",
       "      <td>no</td>\n",
       "    </tr>\n",
       "    <tr>\n",
       "      <th>15</th>\n",
       "      <td>old</td>\n",
       "      <td>False</td>\n",
       "      <td>n</td>\n",
       "      <td>excellent</td>\n",
       "      <td>yes</td>\n",
       "    </tr>\n",
       "    <tr>\n",
       "      <th>16</th>\n",
       "      <td>young</td>\n",
       "      <td>True</td>\n",
       "      <td>y</td>\n",
       "      <td>fair</td>\n",
       "      <td>yes</td>\n",
       "    </tr>\n",
       "  </tbody>\n",
       "</table>\n",
       "</div>"
      ],
      "text/plain": [
       "       age  employed own_house     credit target\n",
       "0    young     False         n       fair     no\n",
       "1    young     False         n       good     no\n",
       "2    young      True         n       good    yes\n",
       "3    young      True         y       fair    yes\n",
       "4    young     False         n       fair     no\n",
       "5   middle     False         n       fair     no\n",
       "6   middle     False         n       good     no\n",
       "7   middle      True         y       good    yes\n",
       "8   middle     False         y  excellent    yes\n",
       "9   middle     False         y  excellent    yes\n",
       "10     old     False         y  excellent    yes\n",
       "11     old     False         y       good    yes\n",
       "12     old      True         n       good    yes\n",
       "13     old      True         n  excellent    yes\n",
       "14     old     False         n       fair     no\n",
       "15     old     False         n  excellent    yes\n",
       "16   young      True         y       fair    yes"
      ]
     },
     "execution_count": 227,
     "metadata": {},
     "output_type": "execute_result"
    }
   ],
   "source": [
    "df"
   ]
  },
  {
   "cell_type": "code",
   "execution_count": 229,
   "metadata": {},
   "outputs": [
    {
     "name": "stdout",
     "output_type": "stream",
     "text": [
      "Result:yes\n",
      "Result:no\n",
      "Result:yes\n",
      "Result:no\n"
     ]
    }
   ],
   "source": [
    "X_try_input = [[0,1,1,1],[1,0,0,2],[1,1,0,1],[2,0,1,1]]\n",
    "y_predict = model.predict(X_try_input)\n",
    "y_predict\n",
    "for i in y_predict:\n",
    "    print('Result:{}'.format(class_names[i]))"
   ]
  },
  {
   "cell_type": "markdown",
   "metadata": {},
   "source": [
    "สรุปคือคนที่ 2 และ คนที่ 4 ไม่ควรปล่อยสินเชื่อให้"
   ]
  },
  {
   "cell_type": "markdown",
   "metadata": {},
   "source": [
    "# Workshop 6 ใช้ข้อมูลจาก ไฟล์ CSV เป็น input"
   ]
  },
  {
   "cell_type": "code",
   "execution_count": 232,
   "metadata": {},
   "outputs": [
    {
     "name": "stderr",
     "output_type": "stream",
     "text": [
      "C:\\Users\\Asus\\anaconda3\\lib\\site-packages\\sklearn\\externals\\joblib\\__init__.py:15: FutureWarning: sklearn.externals.joblib is deprecated in 0.21 and will be removed in 0.23. Please import this functionality directly from joblib, which can be installed with: pip install joblib. If this warning is raised when loading pickled models, you may need to re-serialize those models with scikit-learn 0.21+.\n",
      "  warnings.warn(msg, category=FutureWarning)\n"
     ]
    },
    {
     "data": {
      "text/plain": [
       "['loan-predition.pkl']"
      ]
     },
     "execution_count": 232,
     "metadata": {},
     "output_type": "execute_result"
    }
   ],
   "source": [
    "from sklearn.externals import joblib\n",
    "joblib.dump(model,'loan-predition.pkl')"
   ]
  },
  {
   "cell_type": "code",
   "execution_count": 238,
   "metadata": {},
   "outputs": [],
   "source": []
  },
  {
   "cell_type": "code",
   "execution_count": 259,
   "metadata": {},
   "outputs": [
    {
     "data": {
      "text/html": [
       "<div>\n",
       "<style scoped>\n",
       "    .dataframe tbody tr th:only-of-type {\n",
       "        vertical-align: middle;\n",
       "    }\n",
       "\n",
       "    .dataframe tbody tr th {\n",
       "        vertical-align: top;\n",
       "    }\n",
       "\n",
       "    .dataframe thead th {\n",
       "        text-align: right;\n",
       "    }\n",
       "</style>\n",
       "<table border=\"1\" class=\"dataframe\">\n",
       "  <thead>\n",
       "    <tr style=\"text-align: right;\">\n",
       "      <th></th>\n",
       "      <th>id</th>\n",
       "      <th>name</th>\n",
       "      <th>age</th>\n",
       "      <th>employed</th>\n",
       "      <th>own_house</th>\n",
       "      <th>credit</th>\n",
       "      <th>age_</th>\n",
       "      <th>employed_</th>\n",
       "      <th>own_house_</th>\n",
       "      <th>credit_</th>\n",
       "      <th>Result</th>\n",
       "      <th>Result_translate</th>\n",
       "    </tr>\n",
       "  </thead>\n",
       "  <tbody>\n",
       "    <tr>\n",
       "      <th>0</th>\n",
       "      <td>101</td>\n",
       "      <td>Kob</td>\n",
       "      <td>middle</td>\n",
       "      <td>True</td>\n",
       "      <td>y</td>\n",
       "      <td>fair</td>\n",
       "      <td>0</td>\n",
       "      <td>1</td>\n",
       "      <td>1</td>\n",
       "      <td>1</td>\n",
       "      <td>1</td>\n",
       "      <td>Yes</td>\n",
       "    </tr>\n",
       "    <tr>\n",
       "      <th>1</th>\n",
       "      <td>102</td>\n",
       "      <td>Cala</td>\n",
       "      <td>old</td>\n",
       "      <td>False</td>\n",
       "      <td>n</td>\n",
       "      <td>good</td>\n",
       "      <td>1</td>\n",
       "      <td>0</td>\n",
       "      <td>0</td>\n",
       "      <td>2</td>\n",
       "      <td>0</td>\n",
       "      <td>No</td>\n",
       "    </tr>\n",
       "    <tr>\n",
       "      <th>2</th>\n",
       "      <td>103</td>\n",
       "      <td>Alex</td>\n",
       "      <td>old</td>\n",
       "      <td>True</td>\n",
       "      <td>n</td>\n",
       "      <td>fair</td>\n",
       "      <td>1</td>\n",
       "      <td>1</td>\n",
       "      <td>0</td>\n",
       "      <td>1</td>\n",
       "      <td>1</td>\n",
       "      <td>Yes</td>\n",
       "    </tr>\n",
       "    <tr>\n",
       "      <th>3</th>\n",
       "      <td>104</td>\n",
       "      <td>Tim</td>\n",
       "      <td>young</td>\n",
       "      <td>False</td>\n",
       "      <td>y</td>\n",
       "      <td>fair</td>\n",
       "      <td>2</td>\n",
       "      <td>0</td>\n",
       "      <td>1</td>\n",
       "      <td>1</td>\n",
       "      <td>0</td>\n",
       "      <td>No</td>\n",
       "    </tr>\n",
       "    <tr>\n",
       "      <th>4</th>\n",
       "      <td>105</td>\n",
       "      <td>Joy</td>\n",
       "      <td>middle</td>\n",
       "      <td>False</td>\n",
       "      <td>n</td>\n",
       "      <td>fair</td>\n",
       "      <td>0</td>\n",
       "      <td>0</td>\n",
       "      <td>0</td>\n",
       "      <td>1</td>\n",
       "      <td>0</td>\n",
       "      <td>No</td>\n",
       "    </tr>\n",
       "    <tr>\n",
       "      <th>5</th>\n",
       "      <td>106</td>\n",
       "      <td>Jib</td>\n",
       "      <td>middle</td>\n",
       "      <td>False</td>\n",
       "      <td>y</td>\n",
       "      <td>excellent</td>\n",
       "      <td>0</td>\n",
       "      <td>0</td>\n",
       "      <td>1</td>\n",
       "      <td>0</td>\n",
       "      <td>1</td>\n",
       "      <td>Yes</td>\n",
       "    </tr>\n",
       "  </tbody>\n",
       "</table>\n",
       "</div>"
      ],
      "text/plain": [
       "    id  name     age  employed own_house     credit  age_  employed_  \\\n",
       "0  101   Kob  middle      True         y       fair     0          1   \n",
       "1  102  Cala     old     False         n       good     1          0   \n",
       "2  103  Alex     old      True         n       fair     1          1   \n",
       "3  104   Tim   young     False         y       fair     2          0   \n",
       "4  105   Joy  middle     False         n       fair     0          0   \n",
       "5  106   Jib  middle     False         y  excellent     0          0   \n",
       "\n",
       "   own_house_  credit_  Result Result_translate  \n",
       "0           1        1       1              Yes  \n",
       "1           0        2       0               No  \n",
       "2           0        1       1              Yes  \n",
       "3           1        1       0               No  \n",
       "4           0        1       0               No  \n",
       "5           1        0       1              Yes  "
      ]
     },
     "execution_count": 259,
     "metadata": {},
     "output_type": "execute_result"
    }
   ],
   "source": [
    "import pandas as pd\n",
    "from sklearn.preprocessing import LabelEncoder\n",
    "\n",
    "df_predict = pd.read_csv('simple_loan_predict.csv')\n",
    "columns = ['age','employed','own_house','credit']\n",
    "df_predict\n",
    "for column in columns:\n",
    "    lb = LabelEncoder()\n",
    "    df_predict[column+'_'] = lb.fit_transform(df_predict[column])\n",
    "df_predict\n",
    "x_input_pred = df_predict[['age_','employed_','own_house_','credit_']]\n",
    "x_input_pred = x_input_pred.values\n",
    "model = joblib.load('loan-predition.pkl')\n",
    "y_pred2 = model.predict(x_input_pred)\n",
    "df_predict['Result'] = y_pred2\n",
    "df_predict['Result_translate'] = pd.Series(map(lambda x: 'Yes' if x == 1 else 'No',df_predict['Result']))\n",
    "df_predict"
   ]
  },
  {
   "cell_type": "code",
   "execution_count": 275,
   "metadata": {},
   "outputs": [
    {
     "name": "stdout",
     "output_type": "stream",
     "text": [
      "[ 0  3  5  7  8  9 10 12 13 14 16] [ 1  2  4  6 11 15]\n",
      "[ 1  2  4  6  7  8  9 11 12 15 16] [ 0  3  5 10 13 14]\n",
      "[ 0  1  2  3  4  5  6 10 11 13 14 15] [ 7  8  9 12 16]\n"
     ]
    }
   ],
   "source": [
    "from sklearn.model_selection import KFold\n",
    "kf = KFold(n_splits=3,shuffle=True)\n",
    "for train_index, test_index in kf.split(x):\n",
    "    print(train_index,test_index)"
   ]
  },
  {
   "cell_type": "markdown",
   "metadata": {},
   "source": [
    "# Workshop 9: 5-Fold Cross Validation"
   ]
  },
  {
   "cell_type": "code",
   "execution_count": 291,
   "metadata": {},
   "outputs": [
    {
     "data": {
      "text/plain": [
       "array([1.        , 1.        , 0.66666667, 1.        , 0.66666667])"
      ]
     },
     "execution_count": 291,
     "metadata": {},
     "output_type": "execute_result"
    }
   ],
   "source": [
    "from sklearn.model_selection import cross_val_score\n",
    "from sklearn.tree import DecisionTreeClassifier\n",
    "import numpy as np\n",
    "model = DecisionTreeClassifier()\n",
    "cvs = cross_val_score(model,x_input,y,cv=5)\n",
    "cvs\n",
    "# ค่าที่ได้เป็นค่าของ ความแม่นยำหรือประสิทธิภาพ 5 ค่าของแต่ละรอบ  โดยเราสามารถนำมาหาค่าเฉลี่ยได้\n"
   ]
  },
  {
   "cell_type": "code",
   "execution_count": 295,
   "metadata": {},
   "outputs": [
    {
     "data": {
      "text/plain": [
       "86.67"
      ]
     },
     "execution_count": 295,
     "metadata": {},
     "output_type": "execute_result"
    }
   ],
   "source": [
    "np.array(cvs).mean().round(4)*100"
   ]
  },
  {
   "cell_type": "markdown",
   "metadata": {},
   "source": [
    "### ลองสร้าง Model ที่ค่าพารามิเตอร์แตกต่างกัน โดยเปลี่ยนบรรทัดกำหนดค่าพารามิเตอร์ (Hyperparameter) ต่างๆ กำหนดค่าความลึกสูงสุดของผังต้นไม้ต่างกันแล้วรันใหม่"
   ]
  },
  {
   "cell_type": "code",
   "execution_count": 297,
   "metadata": {},
   "outputs": [
    {
     "name": "stdout",
     "output_type": "stream",
     "text": [
      "max_depth=1\n",
      "[0.75       0.5        0.33333333 0.33333333 0.66666667]\n",
      "51.67\n",
      "======\n",
      "max_depth=2\n",
      "[0.75       1.         0.66666667 1.         0.66666667]\n",
      "81.67\n",
      "======\n",
      "max_depth=3\n",
      "[1.         1.         0.66666667 1.         0.66666667]\n",
      "86.67\n",
      "======\n"
     ]
    }
   ],
   "source": [
    "from sklearn.model_selection import cross_val_score\n",
    "from sklearn.tree import DecisionTreeClassifier\n",
    "import numpy as np\n",
    "for i in range(1,4):\n",
    "    model = DecisionTreeClassifier(max_depth=i)\n",
    "    cvs = cross_val_score(model,x_input,y,cv=5)\n",
    "    print('max_depth={}'.format(i))\n",
    "    print(cvs)\n",
    "    # ค่าที่ได้เป็นค่าของ ความแม่นยำหรือประสิทธิภาพ 5 ค่าของแต่ละรอบ  โดยเราสามารถนำมาหาค่าเฉลี่ยได้\n",
    "    print(np.array(cvs).mean().round(4)*100)\n",
    "    print('======')"
   ]
  },
  {
   "cell_type": "markdown",
   "metadata": {},
   "source": [
    "# สรุปการทดสอบหรือประเมินประสิทธิภาพความแม่นยำ Model ว่ามีความแม่นยำเพียงไร มีความสำคัญคือ ทำให้เรารู้ได้ว่า Model นั้นเหมาะสมที่นำไปใช้ได้หรือไม่"
   ]
  },
  {
   "cell_type": "code",
   "execution_count": null,
   "metadata": {},
   "outputs": [],
   "source": []
  }
 ],
 "metadata": {
  "kernelspec": {
   "display_name": "Python 3",
   "language": "python",
   "name": "python3"
  },
  "language_info": {
   "codemirror_mode": {
    "name": "ipython",
    "version": 3
   },
   "file_extension": ".py",
   "mimetype": "text/x-python",
   "name": "python",
   "nbconvert_exporter": "python",
   "pygments_lexer": "ipython3",
   "version": "3.7.6"
  }
 },
 "nbformat": 4,
 "nbformat_minor": 4
}
