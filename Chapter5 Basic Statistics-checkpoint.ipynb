{
 "cells": [
  {
   "cell_type": "markdown",
   "metadata": {},
   "source": [
    "# Statistics\n",
    "## Type of Statistics\n",
    "- Descriptive Statistics -> mean med mode std variance \n",
    "- Inferential Statistics -> study of samples conclude something about population\n",
    "## มาตรวัดข้อมูล\n",
    "- Nominal Scale ชาย =1 หญิง =2\n",
    "- Ordinal Scale ความชอบในตัวสินค้า 1 = ไม่ชอบ | 2 = เฉยๆ | 3 = ชอบสินค้า\n",
    "- Interval scale อันดับคะแนความนิยม 1-5, ระดับรายได้ 1 =5000-15000,2 = 15001-30000,...\n",
    "- Ratio Scale ข้อมูลที่มีตัวเลข 0 ที่แท้จริง\n",
    "## ค่ากลางของข้อมูล\n",
    "- mean\n",
    "- mode\n",
    "- median\n",
    "- std\n",
    "- quartile\n",
    "- decile\n",
    "- percentile\n",
    "## Frequency Distribution\n",
    "## Histogram\n"
   ]
  },
  {
   "cell_type": "code",
   "execution_count": 6,
   "metadata": {},
   "outputs": [
    {
     "data": {
      "text/plain": [
       "0    1.628049\n",
       "1    8.269538\n",
       "2    0.254502\n",
       "3    9.015966\n",
       "4    5.312890\n",
       "5    5.799146\n",
       "6    4.053066\n",
       "7    6.851064\n",
       "8    4.970417\n",
       "9    4.208124\n",
       "dtype: float64"
      ]
     },
     "execution_count": 6,
     "metadata": {},
     "output_type": "execute_result"
    }
   ],
   "source": [
    "import pandas as pd\n",
    "import random\n",
    "import numpy as np\n",
    "\n",
    "datas = [i for i in np.random.rand(10)*10]\n",
    "datas\n",
    "ds = pd.Series(datas)\n",
    "ds"
   ]
  },
  {
   "cell_type": "code",
   "execution_count": 7,
   "metadata": {},
   "outputs": [
    {
     "data": {
      "text/plain": [
       "5.036276209228491"
      ]
     },
     "execution_count": 7,
     "metadata": {},
     "output_type": "execute_result"
    }
   ],
   "source": [
    "ds.mean()"
   ]
  },
  {
   "cell_type": "code",
   "execution_count": 9,
   "metadata": {},
   "outputs": [
    {
     "data": {
      "text/plain": [
       "0.2545021008754633"
      ]
     },
     "execution_count": 9,
     "metadata": {},
     "output_type": "execute_result"
    }
   ],
   "source": [
    "ds.min()"
   ]
  },
  {
   "cell_type": "code",
   "execution_count": 11,
   "metadata": {},
   "outputs": [
    {
     "data": {
      "text/plain": [
       "9.015966151263683"
      ]
     },
     "execution_count": 11,
     "metadata": {},
     "output_type": "execute_result"
    }
   ],
   "source": [
    "ds.max()"
   ]
  },
  {
   "cell_type": "code",
   "execution_count": 12,
   "metadata": {},
   "outputs": [
    {
     "data": {
      "text/plain": [
       "2.715840561084919"
      ]
     },
     "execution_count": 12,
     "metadata": {},
     "output_type": "execute_result"
    }
   ],
   "source": [
    "ds.std()"
   ]
  },
  {
   "cell_type": "code",
   "execution_count": 42,
   "metadata": {},
   "outputs": [
    {
     "data": {
      "text/html": [
       "<div>\n",
       "<style scoped>\n",
       "    .dataframe tbody tr th:only-of-type {\n",
       "        vertical-align: middle;\n",
       "    }\n",
       "\n",
       "    .dataframe tbody tr th {\n",
       "        vertical-align: top;\n",
       "    }\n",
       "\n",
       "    .dataframe thead th {\n",
       "        text-align: right;\n",
       "    }\n",
       "</style>\n",
       "<table border=\"1\" class=\"dataframe\">\n",
       "  <thead>\n",
       "    <tr style=\"text-align: right;\">\n",
       "      <th></th>\n",
       "      <th>Name</th>\n",
       "      <th>Age</th>\n",
       "      <th>Gender</th>\n",
       "    </tr>\n",
       "  </thead>\n",
       "  <tbody>\n",
       "    <tr>\n",
       "      <th>0</th>\n",
       "      <td>Kobkiat</td>\n",
       "      <td>36</td>\n",
       "      <td>F</td>\n",
       "    </tr>\n",
       "    <tr>\n",
       "      <th>1</th>\n",
       "      <td>Nan</td>\n",
       "      <td>21</td>\n",
       "      <td>F</td>\n",
       "    </tr>\n",
       "    <tr>\n",
       "      <th>2</th>\n",
       "      <td>John</td>\n",
       "      <td>38</td>\n",
       "      <td>F</td>\n",
       "    </tr>\n",
       "    <tr>\n",
       "      <th>3</th>\n",
       "      <td>Tim</td>\n",
       "      <td>22</td>\n",
       "      <td>M</td>\n",
       "    </tr>\n",
       "    <tr>\n",
       "      <th>4</th>\n",
       "      <td>Jang</td>\n",
       "      <td>28</td>\n",
       "      <td>F</td>\n",
       "    </tr>\n",
       "    <tr>\n",
       "      <th>5</th>\n",
       "      <td>Mark</td>\n",
       "      <td>28</td>\n",
       "      <td>M</td>\n",
       "    </tr>\n",
       "    <tr>\n",
       "      <th>6</th>\n",
       "      <td>Daeng</td>\n",
       "      <td>32</td>\n",
       "      <td>M</td>\n",
       "    </tr>\n",
       "    <tr>\n",
       "      <th>7</th>\n",
       "      <td>Chompoo</td>\n",
       "      <td>21</td>\n",
       "      <td>F</td>\n",
       "    </tr>\n",
       "  </tbody>\n",
       "</table>\n",
       "</div>"
      ],
      "text/plain": [
       "      Name  Age Gender\n",
       "0  Kobkiat   36      F\n",
       "1      Nan   21      F\n",
       "2     John   38      F\n",
       "3      Tim   22      M\n",
       "4     Jang   28      F\n",
       "5     Mark   28      M\n",
       "6    Daeng   32      M\n",
       "7  Chompoo   21      F"
      ]
     },
     "execution_count": 42,
     "metadata": {},
     "output_type": "execute_result"
    }
   ],
   "source": [
    "datas = {'Name': ['Kobkiat','Nan','John','Tim','Jang','Mark','Daeng','Chompoo'],\n",
    "         'Age': np.random.randint(20,40,8),\n",
    "         'Gender': np.random.choice(['M','F'],8)}\n",
    "df = pd.DataFrame(datas)\n",
    "df"
   ]
  },
  {
   "cell_type": "code",
   "execution_count": 47,
   "metadata": {},
   "outputs": [
    {
     "data": {
      "text/html": [
       "<div>\n",
       "<style scoped>\n",
       "    .dataframe tbody tr th:only-of-type {\n",
       "        vertical-align: middle;\n",
       "    }\n",
       "\n",
       "    .dataframe tbody tr th {\n",
       "        vertical-align: top;\n",
       "    }\n",
       "\n",
       "    .dataframe thead th {\n",
       "        text-align: right;\n",
       "    }\n",
       "</style>\n",
       "<table border=\"1\" class=\"dataframe\">\n",
       "  <thead>\n",
       "    <tr style=\"text-align: right;\">\n",
       "      <th></th>\n",
       "      <th>Name</th>\n",
       "      <th>Age</th>\n",
       "      <th>Gender</th>\n",
       "      <th>Sex</th>\n",
       "      <th>Sales</th>\n",
       "      <th>Tpye</th>\n",
       "      <th>JS</th>\n",
       "    </tr>\n",
       "  </thead>\n",
       "  <tbody>\n",
       "    <tr>\n",
       "      <th>0</th>\n",
       "      <td>Kobkiat</td>\n",
       "      <td>36</td>\n",
       "      <td>F</td>\n",
       "      <td>2</td>\n",
       "      <td>33906</td>\n",
       "      <td>Junior</td>\n",
       "      <td>j</td>\n",
       "    </tr>\n",
       "    <tr>\n",
       "      <th>1</th>\n",
       "      <td>Nan</td>\n",
       "      <td>21</td>\n",
       "      <td>F</td>\n",
       "      <td>2</td>\n",
       "      <td>26617</td>\n",
       "      <td>Junior</td>\n",
       "      <td>j</td>\n",
       "    </tr>\n",
       "    <tr>\n",
       "      <th>2</th>\n",
       "      <td>John</td>\n",
       "      <td>38</td>\n",
       "      <td>F</td>\n",
       "      <td>2</td>\n",
       "      <td>24267</td>\n",
       "      <td>Junior</td>\n",
       "      <td>j</td>\n",
       "    </tr>\n",
       "    <tr>\n",
       "      <th>3</th>\n",
       "      <td>Tim</td>\n",
       "      <td>22</td>\n",
       "      <td>M</td>\n",
       "      <td>1</td>\n",
       "      <td>36287</td>\n",
       "      <td>Senior</td>\n",
       "      <td>S</td>\n",
       "    </tr>\n",
       "    <tr>\n",
       "      <th>4</th>\n",
       "      <td>Jang</td>\n",
       "      <td>28</td>\n",
       "      <td>F</td>\n",
       "      <td>2</td>\n",
       "      <td>25385</td>\n",
       "      <td>Junior</td>\n",
       "      <td>j</td>\n",
       "    </tr>\n",
       "    <tr>\n",
       "      <th>5</th>\n",
       "      <td>Mark</td>\n",
       "      <td>28</td>\n",
       "      <td>M</td>\n",
       "      <td>1</td>\n",
       "      <td>36296</td>\n",
       "      <td>Senior</td>\n",
       "      <td>S</td>\n",
       "    </tr>\n",
       "    <tr>\n",
       "      <th>6</th>\n",
       "      <td>Daeng</td>\n",
       "      <td>32</td>\n",
       "      <td>M</td>\n",
       "      <td>1</td>\n",
       "      <td>30998</td>\n",
       "      <td>Junior</td>\n",
       "      <td>j</td>\n",
       "    </tr>\n",
       "    <tr>\n",
       "      <th>7</th>\n",
       "      <td>Chompoo</td>\n",
       "      <td>21</td>\n",
       "      <td>F</td>\n",
       "      <td>2</td>\n",
       "      <td>46267</td>\n",
       "      <td>Senior</td>\n",
       "      <td>S</td>\n",
       "    </tr>\n",
       "  </tbody>\n",
       "</table>\n",
       "</div>"
      ],
      "text/plain": [
       "      Name  Age Gender  Sex  Sales    Tpye JS\n",
       "0  Kobkiat   36      F    2  33906  Junior  j\n",
       "1      Nan   21      F    2  26617  Junior  j\n",
       "2     John   38      F    2  24267  Junior  j\n",
       "3      Tim   22      M    1  36287  Senior  S\n",
       "4     Jang   28      F    2  25385  Junior  j\n",
       "5     Mark   28      M    1  36296  Senior  S\n",
       "6    Daeng   32      M    1  30998  Junior  j\n",
       "7  Chompoo   21      F    2  46267  Senior  S"
      ]
     },
     "execution_count": 47,
     "metadata": {},
     "output_type": "execute_result"
    }
   ],
   "source": [
    "df['Sex'] = df['Gender'].apply(lambda x: 1 if x=='M' else 2 )\n",
    "df['Sales'] = df['Name'].apply(lambda x: np.random.randint(20000,50000))\n",
    "df['Tpye'] = pd.cut(df['Sales'],bins =[20000,35000,50000],labels = ['Junior','Senior'])\n",
    "df['JS'] = df['Tpye'].apply(lambda x: 'j' if x.startswith('J') else 'S')\n",
    "df"
   ]
  },
  {
   "cell_type": "code",
   "execution_count": 48,
   "metadata": {},
   "outputs": [
    {
     "data": {
      "text/plain": [
       "32502.875"
      ]
     },
     "execution_count": 48,
     "metadata": {},
     "output_type": "execute_result"
    }
   ],
   "source": [
    "df['Sales'].mean()"
   ]
  },
  {
   "cell_type": "code",
   "execution_count": 49,
   "metadata": {},
   "outputs": [
    {
     "data": {
      "text/plain": [
       "0    21\n",
       "1    28\n",
       "dtype: int32"
      ]
     },
     "execution_count": 49,
     "metadata": {},
     "output_type": "execute_result"
    }
   ],
   "source": [
    "df['Age'].mode()\n"
   ]
  },
  {
   "cell_type": "markdown",
   "metadata": {},
   "source": [
    "# Quartile"
   ]
  },
  {
   "cell_type": "code",
   "execution_count": 53,
   "metadata": {},
   "outputs": [],
   "source": [
    "datas = np.random.randint(0,10,20)\n",
    "ds = pd.Series(datas)"
   ]
  },
  {
   "cell_type": "code",
   "execution_count": 56,
   "metadata": {},
   "outputs": [
    {
     "data": {
      "text/plain": [
       "0.25    3.00\n",
       "0.50    5.00\n",
       "0.75    7.25\n",
       "dtype: float64"
      ]
     },
     "execution_count": 56,
     "metadata": {},
     "output_type": "execute_result"
    }
   ],
   "source": [
    "ds.quantile([0.25,0.5,0.75])"
   ]
  },
  {
   "cell_type": "code",
   "execution_count": 95,
   "metadata": {},
   "outputs": [],
   "source": [
    "ds = pd.Series(np.random.choice(['M','S'],200,p =[0.2,0.8]))"
   ]
  },
  {
   "cell_type": "code",
   "execution_count": 96,
   "metadata": {},
   "outputs": [
    {
     "data": {
      "text/plain": [
       "S    161\n",
       "M     39\n",
       "dtype: int64"
      ]
     },
     "execution_count": 96,
     "metadata": {},
     "output_type": "execute_result"
    }
   ],
   "source": [
    "ds.value_counts()"
   ]
  },
  {
   "cell_type": "code",
   "execution_count": 76,
   "metadata": {},
   "outputs": [
    {
     "data": {
      "text/plain": [
       "\u001b[1;31mDocstring:\u001b[0m\n",
       "choice(a, size=None, replace=True, p=None)\n",
       "\n",
       "Generates a random sample from a given 1-D array\n",
       "\n",
       "        .. versionadded:: 1.7.0\n",
       "\n",
       ".. note::\n",
       "    New code should use the ``choice`` method of a ``default_rng()``\n",
       "    instance instead; see `random-quick-start`.\n",
       "\n",
       "Parameters\n",
       "----------\n",
       "a : 1-D array-like or int\n",
       "    If an ndarray, a random sample is generated from its elements.\n",
       "    If an int, the random sample is generated as if a were np.arange(a)\n",
       "size : int or tuple of ints, optional\n",
       "    Output shape.  If the given shape is, e.g., ``(m, n, k)``, then\n",
       "    ``m * n * k`` samples are drawn.  Default is None, in which case a\n",
       "    single value is returned.\n",
       "replace : boolean, optional\n",
       "    Whether the sample is with or without replacement\n",
       "p : 1-D array-like, optional\n",
       "    The probabilities associated with each entry in a.\n",
       "    If not given the sample assumes a uniform distribution over all\n",
       "    entries in a.\n",
       "\n",
       "Returns\n",
       "-------\n",
       "samples : single item or ndarray\n",
       "    The generated random samples\n",
       "\n",
       "Raises\n",
       "------\n",
       "ValueError\n",
       "    If a is an int and less than zero, if a or p are not 1-dimensional,\n",
       "    if a is an array-like of size 0, if p is not a vector of\n",
       "    probabilities, if a and p have different lengths, or if\n",
       "    replace=False and the sample size is greater than the population\n",
       "    size\n",
       "\n",
       "See Also\n",
       "--------\n",
       "randint, shuffle, permutation\n",
       "Generator.choice: which should be used in new code\n",
       "\n",
       "Examples\n",
       "--------\n",
       "Generate a uniform random sample from np.arange(5) of size 3:\n",
       "\n",
       ">>> np.random.choice(5, 3)\n",
       "array([0, 3, 4]) # random\n",
       ">>> #This is equivalent to np.random.randint(0,5,3)\n",
       "\n",
       "Generate a non-uniform random sample from np.arange(5) of size 3:\n",
       "\n",
       ">>> np.random.choice(5, 3, p=[0.1, 0, 0.3, 0.6, 0])\n",
       "array([3, 3, 0]) # random\n",
       "\n",
       "Generate a uniform random sample from np.arange(5) of size 3 without\n",
       "replacement:\n",
       "\n",
       ">>> np.random.choice(5, 3, replace=False)\n",
       "array([3,1,0]) # random\n",
       ">>> #This is equivalent to np.random.permutation(np.arange(5))[:3]\n",
       "\n",
       "Generate a non-uniform random sample from np.arange(5) of size\n",
       "3 without replacement:\n",
       "\n",
       ">>> np.random.choice(5, 3, replace=False, p=[0.1, 0, 0.3, 0.6, 0])\n",
       "array([2, 3, 0]) # random\n",
       "\n",
       "Any of the above can be repeated with an arbitrary array-like\n",
       "instead of just integers. For instance:\n",
       "\n",
       ">>> aa_milne_arr = ['pooh', 'rabbit', 'piglet', 'Christopher']\n",
       ">>> np.random.choice(aa_milne_arr, 5, p=[0.5, 0.1, 0.1, 0.3])\n",
       "array(['pooh', 'pooh', 'pooh', 'Christopher', 'piglet'], # random\n",
       "      dtype='<U11')\n",
       "\u001b[1;31mType:\u001b[0m      builtin_function_or_method\n"
      ]
     },
     "metadata": {},
     "output_type": "display_data"
    }
   ],
   "source": []
  },
  {
   "cell_type": "code",
   "execution_count": null,
   "metadata": {},
   "outputs": [],
   "source": []
  }
 ],
 "metadata": {
  "kernelspec": {
   "display_name": "Python 3",
   "language": "python",
   "name": "python3"
  },
  "language_info": {
   "codemirror_mode": {
    "name": "ipython",
    "version": 3
   },
   "file_extension": ".py",
   "mimetype": "text/x-python",
   "name": "python",
   "nbconvert_exporter": "python",
   "pygments_lexer": "ipython3",
   "version": "3.7.6"
  }
 },
 "nbformat": 4,
 "nbformat_minor": 4
}
